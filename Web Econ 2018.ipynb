{
 "cells": [
  {
   "cell_type": "code",
   "execution_count": 2,
   "metadata": {
    "collapsed": true
   },
   "outputs": [],
   "source": [
    "from sklearn.linear_model import LogisticRegression\n",
    "import numpy as np\n",
    "from collections import defaultdict\n",
    "from sklearn.feature_extraction import DictVectorizer\n",
    "from sklearn.preprocessing import LabelEncoder\n",
    "import sys\n",
    "import os\n",
    "import pandas as pd\n",
    "import matplotlib.pyplot as plt\n",
    "%matplotlib inline\n",
    "label_encoder = LabelEncoder()# converts labels into integers\n"
   ]
  },
  {
   "cell_type": "code",
   "execution_count": 3,
   "metadata": {},
   "outputs": [
    {
     "data": {
      "text/html": [
       "<div>\n",
       "<table border=\"1\" class=\"dataframe\">\n",
       "  <thead>\n",
       "    <tr style=\"text-align: right;\">\n",
       "      <th></th>\n",
       "      <th>click</th>\n",
       "      <th>weekday</th>\n",
       "      <th>hour</th>\n",
       "      <th>bidid</th>\n",
       "      <th>userid</th>\n",
       "      <th>useragent</th>\n",
       "      <th>IP</th>\n",
       "      <th>region</th>\n",
       "      <th>city</th>\n",
       "      <th>adexchange</th>\n",
       "      <th>...</th>\n",
       "      <th>slotheight</th>\n",
       "      <th>slotvisibility</th>\n",
       "      <th>slotformat</th>\n",
       "      <th>slotprice</th>\n",
       "      <th>creative</th>\n",
       "      <th>bidprice</th>\n",
       "      <th>payprice</th>\n",
       "      <th>keypage</th>\n",
       "      <th>advertiser</th>\n",
       "      <th>usertag</th>\n",
       "    </tr>\n",
       "  </thead>\n",
       "  <tbody>\n",
       "    <tr>\n",
       "      <th>0</th>\n",
       "      <td>0</td>\n",
       "      <td>5</td>\n",
       "      <td>22</td>\n",
       "      <td>b7bea80521fdecd95d2d761a38c91c3f09618066</td>\n",
       "      <td>2e880fb7d690cf7377b2e42e701728e3f3c0e4c1</td>\n",
       "      <td>windows_ie</td>\n",
       "      <td>125.37.175.*</td>\n",
       "      <td>2</td>\n",
       "      <td>2</td>\n",
       "      <td>2</td>\n",
       "      <td>...</td>\n",
       "      <td>200</td>\n",
       "      <td>2</td>\n",
       "      <td>0</td>\n",
       "      <td>5</td>\n",
       "      <td>a4f763f78ef3eedfe614263b94a8924e</td>\n",
       "      <td>238</td>\n",
       "      <td>5</td>\n",
       "      <td>0f951a030abdaedd733ee8d114ce2944</td>\n",
       "      <td>3427</td>\n",
       "      <td>null</td>\n",
       "    </tr>\n",
       "    <tr>\n",
       "      <th>1</th>\n",
       "      <td>0</td>\n",
       "      <td>1</td>\n",
       "      <td>20</td>\n",
       "      <td>4f51205475678f5a124bc76b2c54163bf8eaa7eb</td>\n",
       "      <td>3a1fe01360ff8100e7d006b83b77a3e4c01d928c</td>\n",
       "      <td>windows_chrome</td>\n",
       "      <td>171.36.92.*</td>\n",
       "      <td>238</td>\n",
       "      <td>239</td>\n",
       "      <td>1</td>\n",
       "      <td>...</td>\n",
       "      <td>250</td>\n",
       "      <td>FourthView</td>\n",
       "      <td>Na</td>\n",
       "      <td>0</td>\n",
       "      <td>10722</td>\n",
       "      <td>294</td>\n",
       "      <td>23</td>\n",
       "      <td>null</td>\n",
       "      <td>2821</td>\n",
       "      <td>null</td>\n",
       "    </tr>\n",
       "    <tr>\n",
       "      <th>2</th>\n",
       "      <td>0</td>\n",
       "      <td>3</td>\n",
       "      <td>13</td>\n",
       "      <td>b604e3fd054a658ab7ced4285ebf2ef54d2bd890</td>\n",
       "      <td>801d18a056b6fe6b06a794aef17fb0d6daff2414</td>\n",
       "      <td>windows_ie</td>\n",
       "      <td>59.46.106.*</td>\n",
       "      <td>40</td>\n",
       "      <td>41</td>\n",
       "      <td>2</td>\n",
       "      <td>...</td>\n",
       "      <td>250</td>\n",
       "      <td>2</td>\n",
       "      <td>0</td>\n",
       "      <td>5</td>\n",
       "      <td>798b2d49952d77f1eace9f23c210d0b5</td>\n",
       "      <td>238</td>\n",
       "      <td>24</td>\n",
       "      <td>0f951a030abdaedd733ee8d114ce2944</td>\n",
       "      <td>3427</td>\n",
       "      <td>10052,10006,13866,10110</td>\n",
       "    </tr>\n",
       "    <tr>\n",
       "      <th>3</th>\n",
       "      <td>0</td>\n",
       "      <td>6</td>\n",
       "      <td>23</td>\n",
       "      <td>0348beeae93e561584c3b50fc9e7746a33048ad7</td>\n",
       "      <td>0d6eaf2259699990e38a1fc5116f112070b9ecdc</td>\n",
       "      <td>windows_ie</td>\n",
       "      <td>114.250.226.*</td>\n",
       "      <td>1</td>\n",
       "      <td>1</td>\n",
       "      <td>1</td>\n",
       "      <td>...</td>\n",
       "      <td>600</td>\n",
       "      <td>2</td>\n",
       "      <td>1</td>\n",
       "      <td>0</td>\n",
       "      <td>cb7c76e7784031272e37af8e7e9b062c</td>\n",
       "      <td>300</td>\n",
       "      <td>25</td>\n",
       "      <td>bebefa5efe83beee17a3d245e7c5085b</td>\n",
       "      <td>1458</td>\n",
       "      <td>13866,10063,10111</td>\n",
       "    </tr>\n",
       "    <tr>\n",
       "      <th>4</th>\n",
       "      <td>0</td>\n",
       "      <td>5</td>\n",
       "      <td>6</td>\n",
       "      <td>268149c1789bce2bc9798ffd97ec431219bafeb3</td>\n",
       "      <td>a239d9bb642460d974ba67f85e63b8d3e214da0e</td>\n",
       "      <td>windows_ie</td>\n",
       "      <td>183.63.192.*</td>\n",
       "      <td>216</td>\n",
       "      <td>233</td>\n",
       "      <td>2</td>\n",
       "      <td>...</td>\n",
       "      <td>90</td>\n",
       "      <td>OtherView</td>\n",
       "      <td>Na</td>\n",
       "      <td>133</td>\n",
       "      <td>7330</td>\n",
       "      <td>277</td>\n",
       "      <td>133</td>\n",
       "      <td>null</td>\n",
       "      <td>2259</td>\n",
       "      <td>null</td>\n",
       "    </tr>\n",
       "    <tr>\n",
       "      <th>5</th>\n",
       "      <td>0</td>\n",
       "      <td>4</td>\n",
       "      <td>17</td>\n",
       "      <td>1be2cf4a47a2a6aee4b0fa64d1b786d3897be4f0</td>\n",
       "      <td>8810fd690f88ddfb797867e3e08e7816f274bd46</td>\n",
       "      <td>windows_ie</td>\n",
       "      <td>119.45.182.*</td>\n",
       "      <td>276</td>\n",
       "      <td>277</td>\n",
       "      <td>1</td>\n",
       "      <td>...</td>\n",
       "      <td>280</td>\n",
       "      <td>2</td>\n",
       "      <td>1</td>\n",
       "      <td>0</td>\n",
       "      <td>77819d3e0b3467fe5c7b16d68ad923a1</td>\n",
       "      <td>300</td>\n",
       "      <td>123</td>\n",
       "      <td>bebefa5efe83beee17a3d245e7c5085b</td>\n",
       "      <td>1458</td>\n",
       "      <td>10006,10077,10063,10057,10110</td>\n",
       "    </tr>\n",
       "    <tr>\n",
       "      <th>6</th>\n",
       "      <td>0</td>\n",
       "      <td>3</td>\n",
       "      <td>12</td>\n",
       "      <td>6b4f23dd215a5f11136c2f29214236cfee1f0122</td>\n",
       "      <td>fbd1bcaf2b33108d2c7f88ac41f0b0194b508a9b</td>\n",
       "      <td>windows_ie</td>\n",
       "      <td>112.82.93.*</td>\n",
       "      <td>80</td>\n",
       "      <td>89</td>\n",
       "      <td>3</td>\n",
       "      <td>...</td>\n",
       "      <td>90</td>\n",
       "      <td>0</td>\n",
       "      <td>0</td>\n",
       "      <td>20</td>\n",
       "      <td>86c2543527c86a893d4d4f68810a0416</td>\n",
       "      <td>300</td>\n",
       "      <td>20</td>\n",
       "      <td>43f4a37f42a7c5e6219e2601b26c6976</td>\n",
       "      <td>3386</td>\n",
       "      <td>10083,10024,10063,13496,10093,10006,10057,10110</td>\n",
       "    </tr>\n",
       "    <tr>\n",
       "      <th>7</th>\n",
       "      <td>0</td>\n",
       "      <td>3</td>\n",
       "      <td>16</td>\n",
       "      <td>f7c1d8ea177211249456c79e194617ce107bc077</td>\n",
       "      <td>9b539ba886146562a3991fd9f94bb9f9bad1f647</td>\n",
       "      <td>windows_ie</td>\n",
       "      <td>118.75.92.*</td>\n",
       "      <td>15</td>\n",
       "      <td>19</td>\n",
       "      <td>1</td>\n",
       "      <td>...</td>\n",
       "      <td>600</td>\n",
       "      <td>2</td>\n",
       "      <td>1</td>\n",
       "      <td>0</td>\n",
       "      <td>cb7c76e7784031272e37af8e7e9b062c</td>\n",
       "      <td>300</td>\n",
       "      <td>134</td>\n",
       "      <td>bebefa5efe83beee17a3d245e7c5085b</td>\n",
       "      <td>1458</td>\n",
       "      <td>10063,10024,13800,13866,10006,10111</td>\n",
       "    </tr>\n",
       "    <tr>\n",
       "      <th>8</th>\n",
       "      <td>0</td>\n",
       "      <td>5</td>\n",
       "      <td>14</td>\n",
       "      <td>9e97694096fe8692851048a893231a7f7ff87922</td>\n",
       "      <td>ddc9c85b6a5726aafaa4c42239e90fb7a44a88d7</td>\n",
       "      <td>windows_ie</td>\n",
       "      <td>61.185.128.*</td>\n",
       "      <td>333</td>\n",
       "      <td>342</td>\n",
       "      <td>3</td>\n",
       "      <td>...</td>\n",
       "      <td>90</td>\n",
       "      <td>0</td>\n",
       "      <td>0</td>\n",
       "      <td>70</td>\n",
       "      <td>832b91d59d0cb5731431653204a76c0e</td>\n",
       "      <td>300</td>\n",
       "      <td>70</td>\n",
       "      <td>bebefa5efe83beee17a3d245e7c5085b</td>\n",
       "      <td>1458</td>\n",
       "      <td>10063,10006,10083,10110</td>\n",
       "    </tr>\n",
       "    <tr>\n",
       "      <th>9</th>\n",
       "      <td>0</td>\n",
       "      <td>5</td>\n",
       "      <td>0</td>\n",
       "      <td>d1b7c7fdb88ce3aa78a540bb29848dd77329a574</td>\n",
       "      <td>63b4f9a3638f81af361ab3c4190fd3e1b5e70fea</td>\n",
       "      <td>windows_chrome</td>\n",
       "      <td>117.9.211.*</td>\n",
       "      <td>2</td>\n",
       "      <td>2</td>\n",
       "      <td>3</td>\n",
       "      <td>...</td>\n",
       "      <td>90</td>\n",
       "      <td>0</td>\n",
       "      <td>0</td>\n",
       "      <td>70</td>\n",
       "      <td>a10c31a8ff5f42930b4c34035e523886</td>\n",
       "      <td>241</td>\n",
       "      <td>77</td>\n",
       "      <td>d29e59bf0f7f8243858b8183f14d4412</td>\n",
       "      <td>3358</td>\n",
       "      <td>13403,10031,10063,10083,10006,10077,10075,10110</td>\n",
       "    </tr>\n",
       "  </tbody>\n",
       "</table>\n",
       "<p>10 rows × 25 columns</p>\n",
       "</div>"
      ],
      "text/plain": [
       "   click  weekday  hour                                     bidid  \\\n",
       "0      0        5    22  b7bea80521fdecd95d2d761a38c91c3f09618066   \n",
       "1      0        1    20  4f51205475678f5a124bc76b2c54163bf8eaa7eb   \n",
       "2      0        3    13  b604e3fd054a658ab7ced4285ebf2ef54d2bd890   \n",
       "3      0        6    23  0348beeae93e561584c3b50fc9e7746a33048ad7   \n",
       "4      0        5     6  268149c1789bce2bc9798ffd97ec431219bafeb3   \n",
       "5      0        4    17  1be2cf4a47a2a6aee4b0fa64d1b786d3897be4f0   \n",
       "6      0        3    12  6b4f23dd215a5f11136c2f29214236cfee1f0122   \n",
       "7      0        3    16  f7c1d8ea177211249456c79e194617ce107bc077   \n",
       "8      0        5    14  9e97694096fe8692851048a893231a7f7ff87922   \n",
       "9      0        5     0  d1b7c7fdb88ce3aa78a540bb29848dd77329a574   \n",
       "\n",
       "                                     userid       useragent             IP  \\\n",
       "0  2e880fb7d690cf7377b2e42e701728e3f3c0e4c1      windows_ie   125.37.175.*   \n",
       "1  3a1fe01360ff8100e7d006b83b77a3e4c01d928c  windows_chrome    171.36.92.*   \n",
       "2  801d18a056b6fe6b06a794aef17fb0d6daff2414      windows_ie    59.46.106.*   \n",
       "3  0d6eaf2259699990e38a1fc5116f112070b9ecdc      windows_ie  114.250.226.*   \n",
       "4  a239d9bb642460d974ba67f85e63b8d3e214da0e      windows_ie   183.63.192.*   \n",
       "5  8810fd690f88ddfb797867e3e08e7816f274bd46      windows_ie   119.45.182.*   \n",
       "6  fbd1bcaf2b33108d2c7f88ac41f0b0194b508a9b      windows_ie    112.82.93.*   \n",
       "7  9b539ba886146562a3991fd9f94bb9f9bad1f647      windows_ie    118.75.92.*   \n",
       "8  ddc9c85b6a5726aafaa4c42239e90fb7a44a88d7      windows_ie   61.185.128.*   \n",
       "9  63b4f9a3638f81af361ab3c4190fd3e1b5e70fea  windows_chrome    117.9.211.*   \n",
       "\n",
       "   region  city adexchange                       ...                         \\\n",
       "0       2     2          2                       ...                          \n",
       "1     238   239          1                       ...                          \n",
       "2      40    41          2                       ...                          \n",
       "3       1     1          1                       ...                          \n",
       "4     216   233          2                       ...                          \n",
       "5     276   277          1                       ...                          \n",
       "6      80    89          3                       ...                          \n",
       "7      15    19          1                       ...                          \n",
       "8     333   342          3                       ...                          \n",
       "9       2     2          3                       ...                          \n",
       "\n",
       "  slotheight slotvisibility slotformat slotprice  \\\n",
       "0        200              2          0         5   \n",
       "1        250     FourthView         Na         0   \n",
       "2        250              2          0         5   \n",
       "3        600              2          1         0   \n",
       "4         90      OtherView         Na       133   \n",
       "5        280              2          1         0   \n",
       "6         90              0          0        20   \n",
       "7        600              2          1         0   \n",
       "8         90              0          0        70   \n",
       "9         90              0          0        70   \n",
       "\n",
       "                           creative  bidprice payprice  \\\n",
       "0  a4f763f78ef3eedfe614263b94a8924e       238        5   \n",
       "1                             10722       294       23   \n",
       "2  798b2d49952d77f1eace9f23c210d0b5       238       24   \n",
       "3  cb7c76e7784031272e37af8e7e9b062c       300       25   \n",
       "4                              7330       277      133   \n",
       "5  77819d3e0b3467fe5c7b16d68ad923a1       300      123   \n",
       "6  86c2543527c86a893d4d4f68810a0416       300       20   \n",
       "7  cb7c76e7784031272e37af8e7e9b062c       300      134   \n",
       "8  832b91d59d0cb5731431653204a76c0e       300       70   \n",
       "9  a10c31a8ff5f42930b4c34035e523886       241       77   \n",
       "\n",
       "                            keypage  advertiser  \\\n",
       "0  0f951a030abdaedd733ee8d114ce2944        3427   \n",
       "1                              null        2821   \n",
       "2  0f951a030abdaedd733ee8d114ce2944        3427   \n",
       "3  bebefa5efe83beee17a3d245e7c5085b        1458   \n",
       "4                              null        2259   \n",
       "5  bebefa5efe83beee17a3d245e7c5085b        1458   \n",
       "6  43f4a37f42a7c5e6219e2601b26c6976        3386   \n",
       "7  bebefa5efe83beee17a3d245e7c5085b        1458   \n",
       "8  bebefa5efe83beee17a3d245e7c5085b        1458   \n",
       "9  d29e59bf0f7f8243858b8183f14d4412        3358   \n",
       "\n",
       "                                           usertag  \n",
       "0                                             null  \n",
       "1                                             null  \n",
       "2                          10052,10006,13866,10110  \n",
       "3                                13866,10063,10111  \n",
       "4                                             null  \n",
       "5                    10006,10077,10063,10057,10110  \n",
       "6  10083,10024,10063,13496,10093,10006,10057,10110  \n",
       "7              10063,10024,13800,13866,10006,10111  \n",
       "8                          10063,10006,10083,10110  \n",
       "9  13403,10031,10063,10083,10006,10077,10075,10110  \n",
       "\n",
       "[10 rows x 25 columns]"
      ]
     },
     "execution_count": 3,
     "metadata": {},
     "output_type": "execute_result"
    }
   ],
   "source": [
    "train= pd.read_csv(\"/Users/esra/Documents/UCL/COMPGW02 - Web Economics/we_data/train.csv\")\n",
    "test= pd.read_csv(\"/Users/esra/Documents/UCL/COMPGW02 - Web Economics/we_data/test.csv\")\n",
    "validation= pd.read_csv(\"/Users/esra/Documents/UCL/COMPGW02 - Web Economics/we_data/validation.csv\")\n",
    "train.head(10)"
   ]
  },
  {
   "cell_type": "code",
   "execution_count": 4,
   "metadata": {},
   "outputs": [
    {
     "data": {
      "text/plain": [
       "(2430981, 25)"
      ]
     },
     "execution_count": 4,
     "metadata": {},
     "output_type": "execute_result"
    }
   ],
   "source": [
    "train.shape"
   ]
  },
  {
   "cell_type": "markdown",
   "metadata": {},
   "source": [
    "### Data Analysis"
   ]
  },
  {
   "cell_type": "code",
   "execution_count": null,
   "metadata": {
    "collapsed": true
   },
   "outputs": [],
   "source": []
  },
  {
   "cell_type": "code",
   "execution_count": 5,
   "metadata": {
    "collapsed": true
   },
   "outputs": [],
   "source": [
    "data = pd.DataFrame()\n",
    "data= train.groupby('advertiser').agg({'url':\"nunique\",'click':sum , 'payprice':'unique' }).reset_index()\n",
    "data['cost'] = [totcost.sum() for totcost in data[\"payprice\"]]\n",
    "data.drop(['payprice'],  axis=1, inplace=True)\n",
    "data.columns=['advertiser', 'impressions', 'clicks', 'cost']\n",
    "data['CTR'] = (((data.clicks / data.impressions) * 100).round(3)).astype(str) + '%'\n",
    "data['CPM'] = (((data.cost / data.impressions) * 1000).round(2)).astype(str)\n",
    "data['eCPC'] = ((data.cost / data.clicks).round(2)).astype(str)"
   ]
  },
  {
   "cell_type": "code",
   "execution_count": 6,
   "metadata": {},
   "outputs": [
    {
     "data": {
      "text/html": [
       "<div>\n",
       "<table border=\"1\" class=\"dataframe\">\n",
       "  <thead>\n",
       "    <tr style=\"text-align: right;\">\n",
       "      <th></th>\n",
       "      <th>advertiser</th>\n",
       "      <th>impressions</th>\n",
       "      <th>clicks</th>\n",
       "      <th>cost</th>\n",
       "      <th>CTR</th>\n",
       "      <th>CPM</th>\n",
       "      <th>eCPC</th>\n",
       "    </tr>\n",
       "  </thead>\n",
       "  <tbody>\n",
       "    <tr>\n",
       "      <th>0</th>\n",
       "      <td>1458</td>\n",
       "      <td>385</td>\n",
       "      <td>164550</td>\n",
       "      <td>45149</td>\n",
       "      <td>42740.26%</td>\n",
       "      <td>117270.13</td>\n",
       "      <td>0.27</td>\n",
       "    </tr>\n",
       "    <tr>\n",
       "      <th>1</th>\n",
       "      <td>2259</td>\n",
       "      <td>43</td>\n",
       "      <td>68321</td>\n",
       "      <td>43365</td>\n",
       "      <td>158886.047%</td>\n",
       "      <td>1008488.37</td>\n",
       "      <td>0.63</td>\n",
       "    </tr>\n",
       "    <tr>\n",
       "      <th>2</th>\n",
       "      <td>2261</td>\n",
       "      <td>36</td>\n",
       "      <td>52013</td>\n",
       "      <td>43365</td>\n",
       "      <td>144480.556%</td>\n",
       "      <td>1204583.33</td>\n",
       "      <td>0.83</td>\n",
       "    </tr>\n",
       "    <tr>\n",
       "      <th>3</th>\n",
       "      <td>2821</td>\n",
       "      <td>131</td>\n",
       "      <td>106555</td>\n",
       "      <td>43365</td>\n",
       "      <td>81339.695%</td>\n",
       "      <td>331030.53</td>\n",
       "      <td>0.41</td>\n",
       "    </tr>\n",
       "    <tr>\n",
       "      <th>4</th>\n",
       "      <td>2997</td>\n",
       "      <td>217</td>\n",
       "      <td>3717</td>\n",
       "      <td>38497</td>\n",
       "      <td>1712.903%</td>\n",
       "      <td>177405.53</td>\n",
       "      <td>10.36</td>\n",
       "    </tr>\n",
       "    <tr>\n",
       "      <th>5</th>\n",
       "      <td>3358</td>\n",
       "      <td>202</td>\n",
       "      <td>118717</td>\n",
       "      <td>27787</td>\n",
       "      <td>58770.792%</td>\n",
       "      <td>137559.41</td>\n",
       "      <td>0.23</td>\n",
       "    </tr>\n",
       "    <tr>\n",
       "      <th>6</th>\n",
       "      <td>3386</td>\n",
       "      <td>320</td>\n",
       "      <td>163132</td>\n",
       "      <td>45150</td>\n",
       "      <td>50978.75%</td>\n",
       "      <td>141093.75</td>\n",
       "      <td>0.28</td>\n",
       "    </tr>\n",
       "    <tr>\n",
       "      <th>7</th>\n",
       "      <td>3427</td>\n",
       "      <td>272</td>\n",
       "      <td>150245</td>\n",
       "      <td>27787</td>\n",
       "      <td>55237.132%</td>\n",
       "      <td>102158.09</td>\n",
       "      <td>0.18</td>\n",
       "    </tr>\n",
       "    <tr>\n",
       "      <th>8</th>\n",
       "      <td>3476</td>\n",
       "      <td>187</td>\n",
       "      <td>119248</td>\n",
       "      <td>31164</td>\n",
       "      <td>63768.984%</td>\n",
       "      <td>166652.41</td>\n",
       "      <td>0.26</td>\n",
       "    </tr>\n",
       "  </tbody>\n",
       "</table>\n",
       "</div>"
      ],
      "text/plain": [
       "   advertiser  impressions  clicks   cost          CTR         CPM   eCPC\n",
       "0        1458          385  164550  45149    42740.26%   117270.13   0.27\n",
       "1        2259           43   68321  43365  158886.047%  1008488.37   0.63\n",
       "2        2261           36   52013  43365  144480.556%  1204583.33   0.83\n",
       "3        2821          131  106555  43365   81339.695%   331030.53   0.41\n",
       "4        2997          217    3717  38497    1712.903%   177405.53  10.36\n",
       "5        3358          202  118717  27787   58770.792%   137559.41   0.23\n",
       "6        3386          320  163132  45150    50978.75%   141093.75   0.28\n",
       "7        3427          272  150245  27787   55237.132%   102158.09   0.18\n",
       "8        3476          187  119248  31164   63768.984%   166652.41   0.26"
      ]
     },
     "execution_count": 6,
     "metadata": {},
     "output_type": "execute_result"
    }
   ],
   "source": [
    "data"
   ]
  },
  {
   "cell_type": "code",
   "execution_count": 7,
   "metadata": {
    "collapsed": true
   },
   "outputs": [],
   "source": [
    "# 1. Analyzing CTR per day of the week\n",
    "CTR = pd.DataFrame()\n",
    "CTR= train.groupby(['advertiser', 'weekday']).agg({'bidid':\"count\",'click': sum }).reset_index() \n",
    "CTR.columns= ['advertiser','weekday','Totimps','Totclick']\n",
    "CTR['CTR_day'] = ((CTR.Totclick / CTR.Totimps)* 100).round(4)\n",
    "CTR_a1458 =CTR[CTR.advertiser==1458]\n",
    "CTR_a3358 =CTR[CTR.advertiser==3358]\n"
   ]
  },
  {
   "cell_type": "code",
   "execution_count": 8,
   "metadata": {},
   "outputs": [
    {
     "data": {
      "text/html": [
       "<div>\n",
       "<table border=\"1\" class=\"dataframe\">\n",
       "  <thead>\n",
       "    <tr style=\"text-align: right;\">\n",
       "      <th></th>\n",
       "      <th>advertiser</th>\n",
       "      <th>weekday</th>\n",
       "      <th>Totimps</th>\n",
       "      <th>Totclick</th>\n",
       "      <th>CTR_day</th>\n",
       "    </tr>\n",
       "  </thead>\n",
       "  <tbody>\n",
       "    <tr>\n",
       "      <th>0</th>\n",
       "      <td>1458</td>\n",
       "      <td>0</td>\n",
       "      <td>52</td>\n",
       "      <td>76372</td>\n",
       "      <td>146869.2308</td>\n",
       "    </tr>\n",
       "    <tr>\n",
       "      <th>1</th>\n",
       "      <td>1458</td>\n",
       "      <td>1</td>\n",
       "      <td>63</td>\n",
       "      <td>66245</td>\n",
       "      <td>105150.7937</td>\n",
       "    </tr>\n",
       "    <tr>\n",
       "      <th>2</th>\n",
       "      <td>1458</td>\n",
       "      <td>2</td>\n",
       "      <td>48</td>\n",
       "      <td>67985</td>\n",
       "      <td>141635.4167</td>\n",
       "    </tr>\n",
       "    <tr>\n",
       "      <th>3</th>\n",
       "      <td>1458</td>\n",
       "      <td>3</td>\n",
       "      <td>52</td>\n",
       "      <td>68874</td>\n",
       "      <td>132450.0000</td>\n",
       "    </tr>\n",
       "    <tr>\n",
       "      <th>4</th>\n",
       "      <td>1458</td>\n",
       "      <td>4</td>\n",
       "      <td>62</td>\n",
       "      <td>69881</td>\n",
       "      <td>112711.2903</td>\n",
       "    </tr>\n",
       "    <tr>\n",
       "      <th>5</th>\n",
       "      <td>1458</td>\n",
       "      <td>5</td>\n",
       "      <td>62</td>\n",
       "      <td>71634</td>\n",
       "      <td>115538.7097</td>\n",
       "    </tr>\n",
       "    <tr>\n",
       "      <th>6</th>\n",
       "      <td>1458</td>\n",
       "      <td>6</td>\n",
       "      <td>46</td>\n",
       "      <td>71362</td>\n",
       "      <td>155134.7826</td>\n",
       "    </tr>\n",
       "  </tbody>\n",
       "</table>\n",
       "</div>"
      ],
      "text/plain": [
       "   advertiser  weekday  Totimps  Totclick      CTR_day\n",
       "0        1458        0       52     76372  146869.2308\n",
       "1        1458        1       63     66245  105150.7937\n",
       "2        1458        2       48     67985  141635.4167\n",
       "3        1458        3       52     68874  132450.0000\n",
       "4        1458        4       62     69881  112711.2903\n",
       "5        1458        5       62     71634  115538.7097\n",
       "6        1458        6       46     71362  155134.7826"
      ]
     },
     "execution_count": 8,
     "metadata": {},
     "output_type": "execute_result"
    }
   ],
   "source": [
    "CTR_a1458"
   ]
  },
  {
   "cell_type": "code",
   "execution_count": 8,
   "metadata": {},
   "outputs": [
    {
     "data": {
      "image/png": "[encoded data removed]",
      "text/plain": [
       "<matplotlib.figure.Figure at 0x10ae41c18>"
      ]
     },
     "metadata": {},
     "output_type": "display_data"
    }
   ],
   "source": [
    "fig=plt.figure(figsize=(10,5))  # Size of the graph\n",
    "\n",
    "fig.add_subplot()\n",
    "plt.plot(CTR_a1458.weekday,CTR_a1458.CTR_day,alpha=0.7, lw=3)\n",
    "plt.plot(CTR_a3358.weekday,CTR_a3358.CTR_day,alpha=0.7, lw=3)\n",
    "\n",
    "plt.ylabel('CTR')    \n",
    "plt.xticks(np.arange(7),('Sun','Mon','Tue','Wed','Thu','Fri','Sat'))\n",
    "plt.xlabel('Days')  \n",
    "plt.legend(['1458', '3358'])\n",
    "plt.title('CTR by Day')\n",
    "plt.savefig('day-ctr', format='png', dpi=105)"
   ]
  },
  {
   "cell_type": "code",
   "execution_count": 9,
   "metadata": {
    "collapsed": true
   },
   "outputs": [],
   "source": [
    "# 1. Analyzing CTR per hour of the day\n",
    "CTR2 = pd.DataFrame()\n",
    "CTR2= train.groupby(['advertiser', 'hour']).agg({'bidid':\"count\",'click': sum }).reset_index() \n",
    "CTR2.columns= ['advertiser','hour','Totimps','Totclick']\n",
    "CTR2['CTR_Hour'] = ((CTR2.Totclick / CTR2.Totimps)* 100).round(4)\n",
    "CTR2_a1458 =CTR2[CTR2.advertiser==1458]\n",
    "CTR2_a3358 =CTR2[CTR2.advertiser==3358]\n"
   ]
  },
  {
   "cell_type": "code",
   "execution_count": 10,
   "metadata": {},
   "outputs": [
    {
     "data": {
      "text/html": [
       "<div>\n",
       "<table border=\"1\" class=\"dataframe\">\n",
       "  <thead>\n",
       "    <tr style=\"text-align: right;\">\n",
       "      <th></th>\n",
       "      <th>advertiser</th>\n",
       "      <th>hour</th>\n",
       "      <th>Totimps</th>\n",
       "      <th>Totclick</th>\n",
       "      <th>CTR_Hour</th>\n",
       "    </tr>\n",
       "  </thead>\n",
       "  <tbody>\n",
       "    <tr>\n",
       "      <th>0</th>\n",
       "      <td>1458</td>\n",
       "      <td>0</td>\n",
       "      <td>22945</td>\n",
       "      <td>23</td>\n",
       "      <td>0.1002</td>\n",
       "    </tr>\n",
       "    <tr>\n",
       "      <th>1</th>\n",
       "      <td>1458</td>\n",
       "      <td>1</td>\n",
       "      <td>9900</td>\n",
       "      <td>6</td>\n",
       "      <td>0.0606</td>\n",
       "    </tr>\n",
       "    <tr>\n",
       "      <th>2</th>\n",
       "      <td>1458</td>\n",
       "      <td>2</td>\n",
       "      <td>6064</td>\n",
       "      <td>7</td>\n",
       "      <td>0.1154</td>\n",
       "    </tr>\n",
       "    <tr>\n",
       "      <th>3</th>\n",
       "      <td>1458</td>\n",
       "      <td>3</td>\n",
       "      <td>6517</td>\n",
       "      <td>3</td>\n",
       "      <td>0.0460</td>\n",
       "    </tr>\n",
       "    <tr>\n",
       "      <th>4</th>\n",
       "      <td>1458</td>\n",
       "      <td>4</td>\n",
       "      <td>3324</td>\n",
       "      <td>3</td>\n",
       "      <td>0.0903</td>\n",
       "    </tr>\n",
       "    <tr>\n",
       "      <th>5</th>\n",
       "      <td>1458</td>\n",
       "      <td>5</td>\n",
       "      <td>3751</td>\n",
       "      <td>6</td>\n",
       "      <td>0.1600</td>\n",
       "    </tr>\n",
       "    <tr>\n",
       "      <th>6</th>\n",
       "      <td>1458</td>\n",
       "      <td>6</td>\n",
       "      <td>4626</td>\n",
       "      <td>4</td>\n",
       "      <td>0.0865</td>\n",
       "    </tr>\n",
       "    <tr>\n",
       "      <th>7</th>\n",
       "      <td>1458</td>\n",
       "      <td>7</td>\n",
       "      <td>9745</td>\n",
       "      <td>7</td>\n",
       "      <td>0.0718</td>\n",
       "    </tr>\n",
       "    <tr>\n",
       "      <th>8</th>\n",
       "      <td>1458</td>\n",
       "      <td>8</td>\n",
       "      <td>14401</td>\n",
       "      <td>13</td>\n",
       "      <td>0.0903</td>\n",
       "    </tr>\n",
       "    <tr>\n",
       "      <th>9</th>\n",
       "      <td>1458</td>\n",
       "      <td>9</td>\n",
       "      <td>18046</td>\n",
       "      <td>16</td>\n",
       "      <td>0.0887</td>\n",
       "    </tr>\n",
       "    <tr>\n",
       "      <th>10</th>\n",
       "      <td>1458</td>\n",
       "      <td>10</td>\n",
       "      <td>26350</td>\n",
       "      <td>17</td>\n",
       "      <td>0.0645</td>\n",
       "    </tr>\n",
       "    <tr>\n",
       "      <th>11</th>\n",
       "      <td>1458</td>\n",
       "      <td>11</td>\n",
       "      <td>27742</td>\n",
       "      <td>19</td>\n",
       "      <td>0.0685</td>\n",
       "    </tr>\n",
       "    <tr>\n",
       "      <th>12</th>\n",
       "      <td>1458</td>\n",
       "      <td>12</td>\n",
       "      <td>28998</td>\n",
       "      <td>17</td>\n",
       "      <td>0.0586</td>\n",
       "    </tr>\n",
       "    <tr>\n",
       "      <th>13</th>\n",
       "      <td>1458</td>\n",
       "      <td>13</td>\n",
       "      <td>27517</td>\n",
       "      <td>22</td>\n",
       "      <td>0.0800</td>\n",
       "    </tr>\n",
       "    <tr>\n",
       "      <th>14</th>\n",
       "      <td>1458</td>\n",
       "      <td>14</td>\n",
       "      <td>29226</td>\n",
       "      <td>13</td>\n",
       "      <td>0.0445</td>\n",
       "    </tr>\n",
       "    <tr>\n",
       "      <th>15</th>\n",
       "      <td>1458</td>\n",
       "      <td>15</td>\n",
       "      <td>28482</td>\n",
       "      <td>10</td>\n",
       "      <td>0.0351</td>\n",
       "    </tr>\n",
       "    <tr>\n",
       "      <th>16</th>\n",
       "      <td>1458</td>\n",
       "      <td>16</td>\n",
       "      <td>28349</td>\n",
       "      <td>30</td>\n",
       "      <td>0.1058</td>\n",
       "    </tr>\n",
       "    <tr>\n",
       "      <th>17</th>\n",
       "      <td>1458</td>\n",
       "      <td>17</td>\n",
       "      <td>29097</td>\n",
       "      <td>29</td>\n",
       "      <td>0.0997</td>\n",
       "    </tr>\n",
       "    <tr>\n",
       "      <th>18</th>\n",
       "      <td>1458</td>\n",
       "      <td>18</td>\n",
       "      <td>28680</td>\n",
       "      <td>23</td>\n",
       "      <td>0.0802</td>\n",
       "    </tr>\n",
       "    <tr>\n",
       "      <th>19</th>\n",
       "      <td>1458</td>\n",
       "      <td>19</td>\n",
       "      <td>28404</td>\n",
       "      <td>19</td>\n",
       "      <td>0.0669</td>\n",
       "    </tr>\n",
       "    <tr>\n",
       "      <th>20</th>\n",
       "      <td>1458</td>\n",
       "      <td>20</td>\n",
       "      <td>26269</td>\n",
       "      <td>20</td>\n",
       "      <td>0.0761</td>\n",
       "    </tr>\n",
       "    <tr>\n",
       "      <th>21</th>\n",
       "      <td>1458</td>\n",
       "      <td>21</td>\n",
       "      <td>28920</td>\n",
       "      <td>29</td>\n",
       "      <td>0.1003</td>\n",
       "    </tr>\n",
       "    <tr>\n",
       "      <th>22</th>\n",
       "      <td>1458</td>\n",
       "      <td>22</td>\n",
       "      <td>31707</td>\n",
       "      <td>25</td>\n",
       "      <td>0.0788</td>\n",
       "    </tr>\n",
       "    <tr>\n",
       "      <th>23</th>\n",
       "      <td>1458</td>\n",
       "      <td>23</td>\n",
       "      <td>23293</td>\n",
       "      <td>24</td>\n",
       "      <td>0.1030</td>\n",
       "    </tr>\n",
       "  </tbody>\n",
       "</table>\n",
       "</div>"
      ],
      "text/plain": [
       "    advertiser  hour  Totimps  Totclick  CTR_Hour\n",
       "0         1458     0    22945        23    0.1002\n",
       "1         1458     1     9900         6    0.0606\n",
       "2         1458     2     6064         7    0.1154\n",
       "3         1458     3     6517         3    0.0460\n",
       "4         1458     4     3324         3    0.0903\n",
       "5         1458     5     3751         6    0.1600\n",
       "6         1458     6     4626         4    0.0865\n",
       "7         1458     7     9745         7    0.0718\n",
       "8         1458     8    14401        13    0.0903\n",
       "9         1458     9    18046        16    0.0887\n",
       "10        1458    10    26350        17    0.0645\n",
       "11        1458    11    27742        19    0.0685\n",
       "12        1458    12    28998        17    0.0586\n",
       "13        1458    13    27517        22    0.0800\n",
       "14        1458    14    29226        13    0.0445\n",
       "15        1458    15    28482        10    0.0351\n",
       "16        1458    16    28349        30    0.1058\n",
       "17        1458    17    29097        29    0.0997\n",
       "18        1458    18    28680        23    0.0802\n",
       "19        1458    19    28404        19    0.0669\n",
       "20        1458    20    26269        20    0.0761\n",
       "21        1458    21    28920        29    0.1003\n",
       "22        1458    22    31707        25    0.0788\n",
       "23        1458    23    23293        24    0.1030"
      ]
     },
     "execution_count": 10,
     "metadata": {},
     "output_type": "execute_result"
    }
   ],
   "source": [
    "CTR2_a1458"
   ]
  },
  {
   "cell_type": "code",
   "execution_count": 11,
   "metadata": {},
   "outputs": [
    {
     "data": {
      "image/png": "[encoded data removed]",
      "text/plain": [
       "<matplotlib.figure.Figure at 0x10ae410b8>"
      ]
     },
     "metadata": {},
     "output_type": "display_data"
    },
    {
     "data": {
      "text/plain": [
       "<matplotlib.figure.Figure at 0x109e5ee10>"
      ]
     },
     "metadata": {},
     "output_type": "display_data"
    }
   ],
   "source": [
    "fig=plt.figure(figsize=(10,5))  # Size of the graph\n",
    "\n",
    "fig.add_subplot()\n",
    "plt.plot(CTR2_a1458.hour,CTR2_a1458.CTR_Hour,alpha=0.7, lw=3)\n",
    "plt.plot(CTR2_a3358.hour,CTR2_a3358.CTR_Hour,alpha=0.7, lw=3)\n",
    "\n",
    "plt.ylabel('CTR')    \n",
    "plt.xticks(np.arange(24))\n",
    "plt.xlabel('Hours')  \n",
    "plt.legend(['1458', '3358'])\n",
    "plt.title('2.bu')\n",
    "\n",
    "#plt.setp(yticklabels, visible=True)\n",
    "plt.show()\n",
    "plt.savefig('hour-ctr', format='png', dpi=105)"
   ]
  },
  {
   "cell_type": "code",
   "execution_count": 12,
   "metadata": {
    "collapsed": true
   },
   "outputs": [],
   "source": [
    "# 3. Analyzing CTR per region\n",
    "\n",
    "CTR3 = pd.DataFrame()\n",
    "CTR3= train.groupby(['advertiser', 'region']).agg({'bidid':\"count\",'click': sum }).reset_index() \n",
    "CTR3.columns= ['advertiser','region','Totimps','Totclick']\n",
    "CTR3['CTR_Region'] = ((CTR3.Totclick / CTR3.Totimps)* 100).round(4)\n",
    "CTR3_a1458 =CTR3[CTR3.advertiser==1458]\n",
    "CTR3_a3358 =CTR3[CTR3.advertiser==3358]\n",
    "\n",
    "regions=xi = [i for i in range(0, len(CTR3['region']))]"
   ]
  },
  {
   "cell_type": "code",
   "execution_count": 14,
   "metadata": {},
   "outputs": [
    {
     "data": {
      "text/html": [
       "<div>\n",
       "<table border=\"1\" class=\"dataframe\">\n",
       "  <thead>\n",
       "    <tr style=\"text-align: right;\">\n",
       "      <th></th>\n",
       "      <th>advertiser</th>\n",
       "      <th>region</th>\n",
       "      <th>Totimps</th>\n",
       "      <th>Totclick</th>\n",
       "      <th>CTR_Region</th>\n",
       "    </tr>\n",
       "  </thead>\n",
       "  <tbody>\n",
       "    <tr>\n",
       "      <th>0</th>\n",
       "      <td>1458</td>\n",
       "      <td>0</td>\n",
       "      <td>7131</td>\n",
       "      <td>6</td>\n",
       "      <td>0.0841</td>\n",
       "    </tr>\n",
       "    <tr>\n",
       "      <th>1</th>\n",
       "      <td>1458</td>\n",
       "      <td>1</td>\n",
       "      <td>21360</td>\n",
       "      <td>17</td>\n",
       "      <td>0.0796</td>\n",
       "    </tr>\n",
       "    <tr>\n",
       "      <th>2</th>\n",
       "      <td>1458</td>\n",
       "      <td>2</td>\n",
       "      <td>7969</td>\n",
       "      <td>4</td>\n",
       "      <td>0.0502</td>\n",
       "    </tr>\n",
       "    <tr>\n",
       "      <th>3</th>\n",
       "      <td>1458</td>\n",
       "      <td>3</td>\n",
       "      <td>24605</td>\n",
       "      <td>21</td>\n",
       "      <td>0.0853</td>\n",
       "    </tr>\n",
       "    <tr>\n",
       "      <th>4</th>\n",
       "      <td>1458</td>\n",
       "      <td>15</td>\n",
       "      <td>15076</td>\n",
       "      <td>15</td>\n",
       "      <td>0.0995</td>\n",
       "    </tr>\n",
       "    <tr>\n",
       "      <th>5</th>\n",
       "      <td>1458</td>\n",
       "      <td>27</td>\n",
       "      <td>7050</td>\n",
       "      <td>3</td>\n",
       "      <td>0.0426</td>\n",
       "    </tr>\n",
       "    <tr>\n",
       "      <th>6</th>\n",
       "      <td>1458</td>\n",
       "      <td>40</td>\n",
       "      <td>18564</td>\n",
       "      <td>11</td>\n",
       "      <td>0.0593</td>\n",
       "    </tr>\n",
       "    <tr>\n",
       "      <th>7</th>\n",
       "      <td>1458</td>\n",
       "      <td>55</td>\n",
       "      <td>11053</td>\n",
       "      <td>5</td>\n",
       "      <td>0.0452</td>\n",
       "    </tr>\n",
       "    <tr>\n",
       "      <th>8</th>\n",
       "      <td>1458</td>\n",
       "      <td>65</td>\n",
       "      <td>11692</td>\n",
       "      <td>12</td>\n",
       "      <td>0.1026</td>\n",
       "    </tr>\n",
       "    <tr>\n",
       "      <th>9</th>\n",
       "      <td>1458</td>\n",
       "      <td>79</td>\n",
       "      <td>12974</td>\n",
       "      <td>14</td>\n",
       "      <td>0.1079</td>\n",
       "    </tr>\n",
       "    <tr>\n",
       "      <th>10</th>\n",
       "      <td>1458</td>\n",
       "      <td>80</td>\n",
       "      <td>40065</td>\n",
       "      <td>33</td>\n",
       "      <td>0.0824</td>\n",
       "    </tr>\n",
       "    <tr>\n",
       "      <th>11</th>\n",
       "      <td>1458</td>\n",
       "      <td>94</td>\n",
       "      <td>28216</td>\n",
       "      <td>19</td>\n",
       "      <td>0.0673</td>\n",
       "    </tr>\n",
       "    <tr>\n",
       "      <th>12</th>\n",
       "      <td>1458</td>\n",
       "      <td>106</td>\n",
       "      <td>14393</td>\n",
       "      <td>11</td>\n",
       "      <td>0.0764</td>\n",
       "    </tr>\n",
       "    <tr>\n",
       "      <th>13</th>\n",
       "      <td>1458</td>\n",
       "      <td>124</td>\n",
       "      <td>15269</td>\n",
       "      <td>16</td>\n",
       "      <td>0.1048</td>\n",
       "    </tr>\n",
       "    <tr>\n",
       "      <th>14</th>\n",
       "      <td>1458</td>\n",
       "      <td>134</td>\n",
       "      <td>10295</td>\n",
       "      <td>10</td>\n",
       "      <td>0.0971</td>\n",
       "    </tr>\n",
       "    <tr>\n",
       "      <th>15</th>\n",
       "      <td>1458</td>\n",
       "      <td>146</td>\n",
       "      <td>37251</td>\n",
       "      <td>31</td>\n",
       "      <td>0.0832</td>\n",
       "    </tr>\n",
       "    <tr>\n",
       "      <th>16</th>\n",
       "      <td>1458</td>\n",
       "      <td>164</td>\n",
       "      <td>24345</td>\n",
       "      <td>20</td>\n",
       "      <td>0.0822</td>\n",
       "    </tr>\n",
       "    <tr>\n",
       "      <th>17</th>\n",
       "      <td>1458</td>\n",
       "      <td>183</td>\n",
       "      <td>17648</td>\n",
       "      <td>15</td>\n",
       "      <td>0.0850</td>\n",
       "    </tr>\n",
       "    <tr>\n",
       "      <th>18</th>\n",
       "      <td>1458</td>\n",
       "      <td>201</td>\n",
       "      <td>12981</td>\n",
       "      <td>13</td>\n",
       "      <td>0.1001</td>\n",
       "    </tr>\n",
       "    <tr>\n",
       "      <th>19</th>\n",
       "      <td>1458</td>\n",
       "      <td>216</td>\n",
       "      <td>57022</td>\n",
       "      <td>37</td>\n",
       "      <td>0.0649</td>\n",
       "    </tr>\n",
       "    <tr>\n",
       "      <th>20</th>\n",
       "      <td>1458</td>\n",
       "      <td>238</td>\n",
       "      <td>12238</td>\n",
       "      <td>11</td>\n",
       "      <td>0.0899</td>\n",
       "    </tr>\n",
       "    <tr>\n",
       "      <th>21</th>\n",
       "      <td>1458</td>\n",
       "      <td>253</td>\n",
       "      <td>2326</td>\n",
       "      <td>0</td>\n",
       "      <td>0.0000</td>\n",
       "    </tr>\n",
       "    <tr>\n",
       "      <th>22</th>\n",
       "      <td>1458</td>\n",
       "      <td>275</td>\n",
       "      <td>11427</td>\n",
       "      <td>10</td>\n",
       "      <td>0.0875</td>\n",
       "    </tr>\n",
       "    <tr>\n",
       "      <th>23</th>\n",
       "      <td>1458</td>\n",
       "      <td>276</td>\n",
       "      <td>26491</td>\n",
       "      <td>15</td>\n",
       "      <td>0.0566</td>\n",
       "    </tr>\n",
       "    <tr>\n",
       "      <th>24</th>\n",
       "      <td>1458</td>\n",
       "      <td>298</td>\n",
       "      <td>5072</td>\n",
       "      <td>3</td>\n",
       "      <td>0.0591</td>\n",
       "    </tr>\n",
       "    <tr>\n",
       "      <th>25</th>\n",
       "      <td>1458</td>\n",
       "      <td>308</td>\n",
       "      <td>6909</td>\n",
       "      <td>5</td>\n",
       "      <td>0.0724</td>\n",
       "    </tr>\n",
       "    <tr>\n",
       "      <th>26</th>\n",
       "      <td>1458</td>\n",
       "      <td>325</td>\n",
       "      <td>172</td>\n",
       "      <td>0</td>\n",
       "      <td>0.0000</td>\n",
       "    </tr>\n",
       "    <tr>\n",
       "      <th>27</th>\n",
       "      <td>1458</td>\n",
       "      <td>333</td>\n",
       "      <td>14810</td>\n",
       "      <td>11</td>\n",
       "      <td>0.0743</td>\n",
       "    </tr>\n",
       "    <tr>\n",
       "      <th>28</th>\n",
       "      <td>1458</td>\n",
       "      <td>344</td>\n",
       "      <td>5286</td>\n",
       "      <td>4</td>\n",
       "      <td>0.0757</td>\n",
       "    </tr>\n",
       "    <tr>\n",
       "      <th>29</th>\n",
       "      <td>1458</td>\n",
       "      <td>359</td>\n",
       "      <td>1377</td>\n",
       "      <td>1</td>\n",
       "      <td>0.0726</td>\n",
       "    </tr>\n",
       "    <tr>\n",
       "      <th>30</th>\n",
       "      <td>1458</td>\n",
       "      <td>368</td>\n",
       "      <td>1980</td>\n",
       "      <td>4</td>\n",
       "      <td>0.2020</td>\n",
       "    </tr>\n",
       "    <tr>\n",
       "      <th>31</th>\n",
       "      <td>1458</td>\n",
       "      <td>374</td>\n",
       "      <td>7096</td>\n",
       "      <td>2</td>\n",
       "      <td>0.0282</td>\n",
       "    </tr>\n",
       "    <tr>\n",
       "      <th>32</th>\n",
       "      <td>1458</td>\n",
       "      <td>393</td>\n",
       "      <td>1375</td>\n",
       "      <td>5</td>\n",
       "      <td>0.3636</td>\n",
       "    </tr>\n",
       "    <tr>\n",
       "      <th>33</th>\n",
       "      <td>1458</td>\n",
       "      <td>394</td>\n",
       "      <td>708</td>\n",
       "      <td>1</td>\n",
       "      <td>0.1412</td>\n",
       "    </tr>\n",
       "    <tr>\n",
       "      <th>34</th>\n",
       "      <td>1458</td>\n",
       "      <td>395</td>\n",
       "      <td>127</td>\n",
       "      <td>0</td>\n",
       "      <td>0.0000</td>\n",
       "    </tr>\n",
       "  </tbody>\n",
       "</table>\n",
       "</div>"
      ],
      "text/plain": [
       "    advertiser  region  Totimps  Totclick  CTR_Region\n",
       "0         1458       0     7131         6      0.0841\n",
       "1         1458       1    21360        17      0.0796\n",
       "2         1458       2     7969         4      0.0502\n",
       "3         1458       3    24605        21      0.0853\n",
       "4         1458      15    15076        15      0.0995\n",
       "5         1458      27     7050         3      0.0426\n",
       "6         1458      40    18564        11      0.0593\n",
       "7         1458      55    11053         5      0.0452\n",
       "8         1458      65    11692        12      0.1026\n",
       "9         1458      79    12974        14      0.1079\n",
       "10        1458      80    40065        33      0.0824\n",
       "11        1458      94    28216        19      0.0673\n",
       "12        1458     106    14393        11      0.0764\n",
       "13        1458     124    15269        16      0.1048\n",
       "14        1458     134    10295        10      0.0971\n",
       "15        1458     146    37251        31      0.0832\n",
       "16        1458     164    24345        20      0.0822\n",
       "17        1458     183    17648        15      0.0850\n",
       "18        1458     201    12981        13      0.1001\n",
       "19        1458     216    57022        37      0.0649\n",
       "20        1458     238    12238        11      0.0899\n",
       "21        1458     253     2326         0      0.0000\n",
       "22        1458     275    11427        10      0.0875\n",
       "23        1458     276    26491        15      0.0566\n",
       "24        1458     298     5072         3      0.0591\n",
       "25        1458     308     6909         5      0.0724\n",
       "26        1458     325      172         0      0.0000\n",
       "27        1458     333    14810        11      0.0743\n",
       "28        1458     344     5286         4      0.0757\n",
       "29        1458     359     1377         1      0.0726\n",
       "30        1458     368     1980         4      0.2020\n",
       "31        1458     374     7096         2      0.0282\n",
       "32        1458     393     1375         5      0.3636\n",
       "33        1458     394      708         1      0.1412\n",
       "34        1458     395      127         0      0.0000"
      ]
     },
     "execution_count": 14,
     "metadata": {},
     "output_type": "execute_result"
    }
   ],
   "source": [
    "CTR3_a1458"
   ]
  },
  {
   "cell_type": "code",
   "execution_count": 13,
   "metadata": {},
   "outputs": [
    {
     "data": {
      "image/png": "[encoded data removed]",
      "text/plain": [
       "<matplotlib.figure.Figure at 0x109e6f9e8>"
      ]
     },
     "metadata": {},
     "output_type": "display_data"
    },
    {
     "data": {
      "text/plain": [
       "<matplotlib.figure.Figure at 0x1046375c0>"
      ]
     },
     "metadata": {},
     "output_type": "display_data"
    }
   ],
   "source": [
    "fig=plt.figure(figsize=(20,5))  # Size of the graph\n",
    "\n",
    "fig.add_subplot()\n",
    "plt.plot(CTR3_a1458.region,CTR3_a1458.CTR_Region,alpha=0.7, lw=3)\n",
    "plt.plot(CTR3_a3358.region,CTR3_a3358.CTR_Region,alpha=0.7, lw=3)\n",
    "\n",
    "plt.ylabel('CTR')    \n",
    "#plt.xticks(np.arange(24))\n",
    "plt.xlabel('Regions')  \n",
    "plt.legend(['1458', '3358'])\n",
    "plt.title('CTR by Region')\n",
    "\n",
    "plt.xticks(CTR3['region'])\n",
    "plt.show()\n",
    "plt.savefig('region-ctr', format='png', dpi=105)"
   ]
  },
  {
   "cell_type": "code",
   "execution_count": 15,
   "metadata": {
    "collapsed": true
   },
   "outputs": [],
   "source": [
    "# 4. Analyzing CTR per slotsize\n",
    "\n",
    "CTR4 = pd.DataFrame()\n",
    "CTR4 = train[['advertiser', 'slotwidth', 'slotheight','bidid','click']].copy()\n",
    "CTR4['slotsize']= (CTR4.slotwidth * CTR4.slotheight)/1000\n",
    "CTR4\n",
    "CTR4= CTR4.groupby(['advertiser', 'slotsize']).agg({'bidid':\"count\",'click': sum }).reset_index() \n",
    "\n",
    "CTR4.columns= ['advertiser','slotsize','Totimps','Totclick']\n",
    "CTR4['CTR_slotsize'] = ((CTR4.Totclick / CTR4.Totimps)* 100).round(4)\n",
    "CTR4_a1458 =CTR4[CTR4.advertiser==1458]\n",
    "CTR4_a3358 =CTR4[CTR4.advertiser==3358]\n"
   ]
  },
  {
   "cell_type": "code",
   "execution_count": 16,
   "metadata": {},
   "outputs": [
    {
     "data": {
      "text/html": [
       "<div>\n",
       "<table border=\"1\" class=\"dataframe\">\n",
       "  <thead>\n",
       "    <tr style=\"text-align: right;\">\n",
       "      <th></th>\n",
       "      <th>advertiser</th>\n",
       "      <th>slotsize</th>\n",
       "      <th>Totimps</th>\n",
       "      <th>Totclick</th>\n",
       "      <th>CTR_slotsize</th>\n",
       "    </tr>\n",
       "  </thead>\n",
       "  <tbody>\n",
       "    <tr>\n",
       "      <th>59</th>\n",
       "      <td>3358</td>\n",
       "      <td>40.00</td>\n",
       "      <td>8362</td>\n",
       "      <td>3</td>\n",
       "      <td>0.0359</td>\n",
       "    </tr>\n",
       "    <tr>\n",
       "      <th>60</th>\n",
       "      <td>3358</td>\n",
       "      <td>62.50</td>\n",
       "      <td>12532</td>\n",
       "      <td>7</td>\n",
       "      <td>0.0559</td>\n",
       "    </tr>\n",
       "    <tr>\n",
       "      <th>61</th>\n",
       "      <td>3358</td>\n",
       "      <td>65.52</td>\n",
       "      <td>36802</td>\n",
       "      <td>11</td>\n",
       "      <td>0.0299</td>\n",
       "    </tr>\n",
       "    <tr>\n",
       "      <th>62</th>\n",
       "      <td>3358</td>\n",
       "      <td>72.00</td>\n",
       "      <td>942</td>\n",
       "      <td>0</td>\n",
       "      <td>0.0000</td>\n",
       "    </tr>\n",
       "    <tr>\n",
       "      <th>63</th>\n",
       "      <td>3358</td>\n",
       "      <td>75.00</td>\n",
       "      <td>87844</td>\n",
       "      <td>94</td>\n",
       "      <td>0.1070</td>\n",
       "    </tr>\n",
       "    <tr>\n",
       "      <th>64</th>\n",
       "      <td>3358</td>\n",
       "      <td>85.50</td>\n",
       "      <td>41900</td>\n",
       "      <td>28</td>\n",
       "      <td>0.0668</td>\n",
       "    </tr>\n",
       "    <tr>\n",
       "      <th>65</th>\n",
       "      <td>3358</td>\n",
       "      <td>86.40</td>\n",
       "      <td>1643</td>\n",
       "      <td>0</td>\n",
       "      <td>0.0000</td>\n",
       "    </tr>\n",
       "    <tr>\n",
       "      <th>66</th>\n",
       "      <td>3358</td>\n",
       "      <td>90.00</td>\n",
       "      <td>40054</td>\n",
       "      <td>40</td>\n",
       "      <td>0.0999</td>\n",
       "    </tr>\n",
       "    <tr>\n",
       "      <th>67</th>\n",
       "      <td>3358</td>\n",
       "      <td>94.08</td>\n",
       "      <td>20933</td>\n",
       "      <td>10</td>\n",
       "      <td>0.0478</td>\n",
       "    </tr>\n",
       "    <tr>\n",
       "      <th>68</th>\n",
       "      <td>3358</td>\n",
       "      <td>96.00</td>\n",
       "      <td>13454</td>\n",
       "      <td>9</td>\n",
       "      <td>0.0669</td>\n",
       "    </tr>\n",
       "    <tr>\n",
       "      <th>69</th>\n",
       "      <td>3358</td>\n",
       "      <td>108.00</td>\n",
       "      <td>490</td>\n",
       "      <td>0</td>\n",
       "      <td>0.0000</td>\n",
       "    </tr>\n",
       "  </tbody>\n",
       "</table>\n",
       "</div>"
      ],
      "text/plain": [
       "    advertiser  slotsize  Totimps  Totclick  CTR_slotsize\n",
       "59        3358     40.00     8362         3        0.0359\n",
       "60        3358     62.50    12532         7        0.0559\n",
       "61        3358     65.52    36802        11        0.0299\n",
       "62        3358     72.00      942         0        0.0000\n",
       "63        3358     75.00    87844        94        0.1070\n",
       "64        3358     85.50    41900        28        0.0668\n",
       "65        3358     86.40     1643         0        0.0000\n",
       "66        3358     90.00    40054        40        0.0999\n",
       "67        3358     94.08    20933        10        0.0478\n",
       "68        3358     96.00    13454         9        0.0669\n",
       "69        3358    108.00      490         0        0.0000"
      ]
     },
     "execution_count": 16,
     "metadata": {},
     "output_type": "execute_result"
    }
   ],
   "source": [
    "CTR4_a3358"
   ]
  },
  {
   "cell_type": "code",
   "execution_count": 17,
   "metadata": {},
   "outputs": [
    {
     "data": {
      "image/png": "[encoded data removed]",
      "text/plain": [
       "<matplotlib.figure.Figure at 0x13ce91668>"
      ]
     },
     "metadata": {},
     "output_type": "display_data"
    },
    {
     "data": {
      "text/plain": [
       "<matplotlib.figure.Figure at 0x1045d5ac8>"
      ]
     },
     "metadata": {},
     "output_type": "display_data"
    }
   ],
   "source": [
    "fig=plt.figure(figsize=(20,5))  # Size of the graph\n",
    "\n",
    "fig.add_subplot()\n",
    "plt.plot(CTR4_a1458.slotsize,CTR4_a1458.CTR_slotsize,alpha=0.7, lw=3)\n",
    "plt.plot(CTR4_a3358.slotsize,CTR4_a3358.CTR_slotsize,alpha=0.7, lw=3)\n",
    "\n",
    "plt.ylabel('CTR')    \n",
    "#plt.xticks(np.arange(24))\n",
    "plt.xlabel('Slotsize')  \n",
    "plt.legend(['1458', '3358'])\n",
    "plt.title('CTR by Slotsize')\n",
    "\n",
    "plt.xticks(CTR4['slotsize'])\n",
    "plt.show()\n",
    "plt.savefig('slotsize-ctr', format='png', dpi=105)"
   ]
  },
  {
   "cell_type": "code",
   "execution_count": 19,
   "metadata": {
    "collapsed": true
   },
   "outputs": [],
   "source": [
    "# 5. Analyzing CTR per OS\n",
    "le = LabelEncoder()\n",
    "\n",
    "CTR5 = pd.DataFrame()\n",
    "CTR5 = train[['advertiser', 'useragent','bidid','click']].copy()\n",
    "CTR5['OS'],CTR5['browser']=CTR5['useragent'].str.split('_', 1).str\n",
    "CTR5= CTR5.groupby(['advertiser', 'OS']).agg({'bidid':\"count\",'click': sum }).reset_index() \n",
    "\n",
    "CTR5.columns= ['advertiser','OS','Totimps','Totclick']\n",
    "CTR5['CTR_OS'] = ((CTR5.Totclick / CTR5.Totimps)* 100).round(4)\n",
    "CTR5['OS_NUM'] =le.fit_transform(CTR5['OS'])\n",
    "CTR5_a1458 =CTR5[CTR5.advertiser==1458]\n",
    "CTR5_a3358 =CTR5[CTR5.advertiser==3358]\n"
   ]
  },
  {
   "cell_type": "code",
   "execution_count": 22,
   "metadata": {},
   "outputs": [
    {
     "data": {
      "text/html": [
       "<div>\n",
       "<table border=\"1\" class=\"dataframe\">\n",
       "  <thead>\n",
       "    <tr style=\"text-align: right;\">\n",
       "      <th></th>\n",
       "      <th>advertiser</th>\n",
       "      <th>OS</th>\n",
       "      <th>Totimps</th>\n",
       "      <th>Totclick</th>\n",
       "      <th>CTR_OS</th>\n",
       "      <th>OS_NUM</th>\n",
       "    </tr>\n",
       "  </thead>\n",
       "  <tbody>\n",
       "    <tr>\n",
       "      <th>26</th>\n",
       "      <td>3358</td>\n",
       "      <td>android</td>\n",
       "      <td>3800</td>\n",
       "      <td>18</td>\n",
       "      <td>0.4737</td>\n",
       "      <td>0</td>\n",
       "    </tr>\n",
       "    <tr>\n",
       "      <th>27</th>\n",
       "      <td>3358</td>\n",
       "      <td>ios</td>\n",
       "      <td>66</td>\n",
       "      <td>0</td>\n",
       "      <td>0.0000</td>\n",
       "      <td>1</td>\n",
       "    </tr>\n",
       "    <tr>\n",
       "      <th>28</th>\n",
       "      <td>3358</td>\n",
       "      <td>linux</td>\n",
       "      <td>198</td>\n",
       "      <td>1</td>\n",
       "      <td>0.5051</td>\n",
       "      <td>2</td>\n",
       "    </tr>\n",
       "    <tr>\n",
       "      <th>29</th>\n",
       "      <td>3358</td>\n",
       "      <td>mac</td>\n",
       "      <td>9610</td>\n",
       "      <td>38</td>\n",
       "      <td>0.3954</td>\n",
       "      <td>3</td>\n",
       "    </tr>\n",
       "    <tr>\n",
       "      <th>30</th>\n",
       "      <td>3358</td>\n",
       "      <td>other</td>\n",
       "      <td>189</td>\n",
       "      <td>0</td>\n",
       "      <td>0.0000</td>\n",
       "      <td>4</td>\n",
       "    </tr>\n",
       "    <tr>\n",
       "      <th>31</th>\n",
       "      <td>3358</td>\n",
       "      <td>windows</td>\n",
       "      <td>251093</td>\n",
       "      <td>145</td>\n",
       "      <td>0.0577</td>\n",
       "      <td>5</td>\n",
       "    </tr>\n",
       "  </tbody>\n",
       "</table>\n",
       "</div>"
      ],
      "text/plain": [
       "    advertiser       OS  Totimps  Totclick  CTR_OS  OS_NUM\n",
       "26        3358  android     3800        18  0.4737       0\n",
       "27        3358      ios       66         0  0.0000       1\n",
       "28        3358    linux      198         1  0.5051       2\n",
       "29        3358      mac     9610        38  0.3954       3\n",
       "30        3358    other      189         0  0.0000       4\n",
       "31        3358  windows   251093       145  0.0577       5"
      ]
     },
     "execution_count": 22,
     "metadata": {},
     "output_type": "execute_result"
    }
   ],
   "source": [
    "CTR5_a3358"
   ]
  },
  {
   "cell_type": "code",
   "execution_count": 21,
   "metadata": {},
   "outputs": [
    {
     "data": {
      "image/png": "[encoded data removed]",
      "text/plain": [
       "<matplotlib.figure.Figure at 0x10aeef7b8>"
      ]
     },
     "metadata": {},
     "output_type": "display_data"
    },
    {
     "data": {
      "text/plain": [
       "<matplotlib.figure.Figure at 0x10d199f60>"
      ]
     },
     "metadata": {},
     "output_type": "display_data"
    }
   ],
   "source": [
    "fig=plt.figure(figsize=(10,5))  # Size of the graph\n",
    "\n",
    "fig.add_subplot()\n",
    "plt.plot(CTR5_a1458.OS_NUM,CTR5_a1458.CTR_OS,alpha=0.7, lw=3)\n",
    "plt.plot(CTR5_a3358.OS_NUM,CTR5_a3358.CTR_OS,alpha=0.7, lw=3)\n",
    "\n",
    "plt.ylabel('CTR')    \n",
    "plt.xticks(np.arange(6),('android','ios','linux','mac','other','windows'))\n",
    "plt.xlabel('OS')  \n",
    "plt.legend(['1458', '3358'])\n",
    "plt.title('CTR by OS')\n",
    "\n",
    "#plt.xticks(CTR4['slotsize'])\n",
    "plt.show()\n",
    "plt.savefig('OS-ctr', format='png', dpi=105)"
   ]
  },
  {
   "cell_type": "markdown",
   "metadata": {},
   "source": [
    "###  Logistic regression "
   ]
  },
  {
   "cell_type": "code",
   "execution_count": 9,
   "metadata": {
    "collapsed": true
   },
   "outputs": [],
   "source": [
    "train['OS'],train['browser']=train['useragent'].str.split('_', 1).str\n",
    "validation['OS'],validation['browser']=validation['useragent'].str.split('_', 1).str\n",
    "test['OS'],test['browser']=test['useragent'].str.split('_', 1).str"
   ]
  },
  {
   "cell_type": "code",
   "execution_count": 10,
   "metadata": {},
   "outputs": [
    {
     "data": {
      "text/html": [
       "<div>\n",
       "<table border=\"1\" class=\"dataframe\">\n",
       "  <thead>\n",
       "    <tr style=\"text-align: right;\">\n",
       "      <th></th>\n",
       "      <th>click</th>\n",
       "      <th>weekday</th>\n",
       "      <th>hour</th>\n",
       "      <th>bidid</th>\n",
       "      <th>userid</th>\n",
       "      <th>useragent</th>\n",
       "      <th>IP</th>\n",
       "      <th>region</th>\n",
       "      <th>city</th>\n",
       "      <th>adexchange</th>\n",
       "      <th>...</th>\n",
       "      <th>slotformat</th>\n",
       "      <th>slotprice</th>\n",
       "      <th>creative</th>\n",
       "      <th>bidprice</th>\n",
       "      <th>payprice</th>\n",
       "      <th>keypage</th>\n",
       "      <th>advertiser</th>\n",
       "      <th>usertag</th>\n",
       "      <th>OS</th>\n",
       "      <th>browser</th>\n",
       "    </tr>\n",
       "  </thead>\n",
       "  <tbody>\n",
       "    <tr>\n",
       "      <th>0</th>\n",
       "      <td>0</td>\n",
       "      <td>5</td>\n",
       "      <td>22</td>\n",
       "      <td>b7bea80521fdecd95d2d761a38c91c3f09618066</td>\n",
       "      <td>2e880fb7d690cf7377b2e42e701728e3f3c0e4c1</td>\n",
       "      <td>windows_ie</td>\n",
       "      <td>125.37.175.*</td>\n",
       "      <td>2</td>\n",
       "      <td>2</td>\n",
       "      <td>2</td>\n",
       "      <td>...</td>\n",
       "      <td>0</td>\n",
       "      <td>5</td>\n",
       "      <td>a4f763f78ef3eedfe614263b94a8924e</td>\n",
       "      <td>238</td>\n",
       "      <td>5</td>\n",
       "      <td>0f951a030abdaedd733ee8d114ce2944</td>\n",
       "      <td>3427</td>\n",
       "      <td>null</td>\n",
       "      <td>windows</td>\n",
       "      <td>ie</td>\n",
       "    </tr>\n",
       "    <tr>\n",
       "      <th>1</th>\n",
       "      <td>0</td>\n",
       "      <td>1</td>\n",
       "      <td>20</td>\n",
       "      <td>4f51205475678f5a124bc76b2c54163bf8eaa7eb</td>\n",
       "      <td>3a1fe01360ff8100e7d006b83b77a3e4c01d928c</td>\n",
       "      <td>windows_chrome</td>\n",
       "      <td>171.36.92.*</td>\n",
       "      <td>238</td>\n",
       "      <td>239</td>\n",
       "      <td>1</td>\n",
       "      <td>...</td>\n",
       "      <td>Na</td>\n",
       "      <td>0</td>\n",
       "      <td>10722</td>\n",
       "      <td>294</td>\n",
       "      <td>23</td>\n",
       "      <td>null</td>\n",
       "      <td>2821</td>\n",
       "      <td>null</td>\n",
       "      <td>windows</td>\n",
       "      <td>chrome</td>\n",
       "    </tr>\n",
       "    <tr>\n",
       "      <th>2</th>\n",
       "      <td>0</td>\n",
       "      <td>3</td>\n",
       "      <td>13</td>\n",
       "      <td>b604e3fd054a658ab7ced4285ebf2ef54d2bd890</td>\n",
       "      <td>801d18a056b6fe6b06a794aef17fb0d6daff2414</td>\n",
       "      <td>windows_ie</td>\n",
       "      <td>59.46.106.*</td>\n",
       "      <td>40</td>\n",
       "      <td>41</td>\n",
       "      <td>2</td>\n",
       "      <td>...</td>\n",
       "      <td>0</td>\n",
       "      <td>5</td>\n",
       "      <td>798b2d49952d77f1eace9f23c210d0b5</td>\n",
       "      <td>238</td>\n",
       "      <td>24</td>\n",
       "      <td>0f951a030abdaedd733ee8d114ce2944</td>\n",
       "      <td>3427</td>\n",
       "      <td>10052,10006,13866,10110</td>\n",
       "      <td>windows</td>\n",
       "      <td>ie</td>\n",
       "    </tr>\n",
       "    <tr>\n",
       "      <th>3</th>\n",
       "      <td>0</td>\n",
       "      <td>6</td>\n",
       "      <td>23</td>\n",
       "      <td>0348beeae93e561584c3b50fc9e7746a33048ad7</td>\n",
       "      <td>0d6eaf2259699990e38a1fc5116f112070b9ecdc</td>\n",
       "      <td>windows_ie</td>\n",
       "      <td>114.250.226.*</td>\n",
       "      <td>1</td>\n",
       "      <td>1</td>\n",
       "      <td>1</td>\n",
       "      <td>...</td>\n",
       "      <td>1</td>\n",
       "      <td>0</td>\n",
       "      <td>cb7c76e7784031272e37af8e7e9b062c</td>\n",
       "      <td>300</td>\n",
       "      <td>25</td>\n",
       "      <td>bebefa5efe83beee17a3d245e7c5085b</td>\n",
       "      <td>1458</td>\n",
       "      <td>13866,10063,10111</td>\n",
       "      <td>windows</td>\n",
       "      <td>ie</td>\n",
       "    </tr>\n",
       "    <tr>\n",
       "      <th>4</th>\n",
       "      <td>0</td>\n",
       "      <td>5</td>\n",
       "      <td>6</td>\n",
       "      <td>268149c1789bce2bc9798ffd97ec431219bafeb3</td>\n",
       "      <td>a239d9bb642460d974ba67f85e63b8d3e214da0e</td>\n",
       "      <td>windows_ie</td>\n",
       "      <td>183.63.192.*</td>\n",
       "      <td>216</td>\n",
       "      <td>233</td>\n",
       "      <td>2</td>\n",
       "      <td>...</td>\n",
       "      <td>Na</td>\n",
       "      <td>133</td>\n",
       "      <td>7330</td>\n",
       "      <td>277</td>\n",
       "      <td>133</td>\n",
       "      <td>null</td>\n",
       "      <td>2259</td>\n",
       "      <td>null</td>\n",
       "      <td>windows</td>\n",
       "      <td>ie</td>\n",
       "    </tr>\n",
       "  </tbody>\n",
       "</table>\n",
       "<p>5 rows × 27 columns</p>\n",
       "</div>"
      ],
      "text/plain": [
       "   click  weekday  hour                                     bidid  \\\n",
       "0      0        5    22  b7bea80521fdecd95d2d761a38c91c3f09618066   \n",
       "1      0        1    20  4f51205475678f5a124bc76b2c54163bf8eaa7eb   \n",
       "2      0        3    13  b604e3fd054a658ab7ced4285ebf2ef54d2bd890   \n",
       "3      0        6    23  0348beeae93e561584c3b50fc9e7746a33048ad7   \n",
       "4      0        5     6  268149c1789bce2bc9798ffd97ec431219bafeb3   \n",
       "\n",
       "                                     userid       useragent             IP  \\\n",
       "0  2e880fb7d690cf7377b2e42e701728e3f3c0e4c1      windows_ie   125.37.175.*   \n",
       "1  3a1fe01360ff8100e7d006b83b77a3e4c01d928c  windows_chrome    171.36.92.*   \n",
       "2  801d18a056b6fe6b06a794aef17fb0d6daff2414      windows_ie    59.46.106.*   \n",
       "3  0d6eaf2259699990e38a1fc5116f112070b9ecdc      windows_ie  114.250.226.*   \n",
       "4  a239d9bb642460d974ba67f85e63b8d3e214da0e      windows_ie   183.63.192.*   \n",
       "\n",
       "   region  city adexchange   ...   slotformat slotprice  \\\n",
       "0       2     2          2   ...            0         5   \n",
       "1     238   239          1   ...           Na         0   \n",
       "2      40    41          2   ...            0         5   \n",
       "3       1     1          1   ...            1         0   \n",
       "4     216   233          2   ...           Na       133   \n",
       "\n",
       "                           creative bidprice  payprice  \\\n",
       "0  a4f763f78ef3eedfe614263b94a8924e      238         5   \n",
       "1                             10722      294        23   \n",
       "2  798b2d49952d77f1eace9f23c210d0b5      238        24   \n",
       "3  cb7c76e7784031272e37af8e7e9b062c      300        25   \n",
       "4                              7330      277       133   \n",
       "\n",
       "                            keypage advertiser                  usertag  \\\n",
       "0  0f951a030abdaedd733ee8d114ce2944       3427                     null   \n",
       "1                              null       2821                     null   \n",
       "2  0f951a030abdaedd733ee8d114ce2944       3427  10052,10006,13866,10110   \n",
       "3  bebefa5efe83beee17a3d245e7c5085b       1458        13866,10063,10111   \n",
       "4                              null       2259                     null   \n",
       "\n",
       "        OS browser  \n",
       "0  windows      ie  \n",
       "1  windows  chrome  \n",
       "2  windows      ie  \n",
       "3  windows      ie  \n",
       "4  windows      ie  \n",
       "\n",
       "[5 rows x 27 columns]"
      ]
     },
     "execution_count": 10,
     "metadata": {},
     "output_type": "execute_result"
    }
   ],
   "source": [
    "train.head()"
   ]
  },
  {
   "cell_type": "code",
   "execution_count": 11,
   "metadata": {
    "collapsed": true
   },
   "outputs": [],
   "source": [
    "X_train = train.drop(['usertag','click', 'useragent'], axis=1)\n",
    "y_train = train.click\n",
    "\n",
    "X_test = test.drop(['usertag','useragent'], axis=1)\n",
    "\n",
    "X_val = validation.drop(['usertag','click','useragent'], axis=1)\n",
    "y_val = validation.click\n",
    "\n",
    "\n",
    "from sklearn.base import TransformerMixin\n",
    "class DataFrameImputer(TransformerMixin):\n",
    "    def fit(self, X, y=None):\n",
    "        self.fill = pd.Series([X[c].value_counts().index[0]\n",
    "            if X[c].dtype == np.dtype('O') else X[c].median() for c in X],\n",
    "            index=X.columns)\n",
    "        return self\n",
    "    def transform(self, X, y=None):\n",
    "        return X.fillna(self.fill)"
   ]
  },
  {
   "cell_type": "code",
   "execution_count": 12,
   "metadata": {},
   "outputs": [
    {
     "data": {
      "text/plain": [
       "Index(['bidid', 'userid', 'IP', 'adexchange', 'domain', 'url', 'urlid',\n",
       "       'slotid', 'slotvisibility', 'slotformat', 'creative', 'keypage', 'OS',\n",
       "       'browser'],\n",
       "      dtype='object')"
      ]
     },
     "execution_count": 12,
     "metadata": {},
     "output_type": "execute_result"
    }
   ],
   "source": [
    "X_train.select_dtypes(include=['object']).columns"
   ]
  },
  {
   "cell_type": "code",
   "execution_count": 13,
   "metadata": {
    "collapsed": true
   },
   "outputs": [],
   "source": [
    "columnsToConvert = ['bidid', 'userid', 'IP', 'adexchange', 'domain',\n",
    "       'url', 'urlid', 'slotid', 'slotvisibility', 'slotformat','creative', 'keypage', 'OS', 'browser']"
   ]
  },
  {
   "cell_type": "code",
   "execution_count": 14,
   "metadata": {
    "collapsed": true
   },
   "outputs": [],
   "source": [
    "le = LabelEncoder()\n",
    "for feature in columnsToConvert:\n",
    "    X_train[feature] = le.fit_transform(X_train[feature])\n",
    "    X_val[feature] = le.fit_transform(X_val[feature])"
   ]
  },
  {
   "cell_type": "code",
   "execution_count": 15,
   "metadata": {},
   "outputs": [
    {
     "data": {
      "text/html": [
       "<div>\n",
       "<table border=\"1\" class=\"dataframe\">\n",
       "  <thead>\n",
       "    <tr style=\"text-align: right;\">\n",
       "      <th></th>\n",
       "      <th>weekday</th>\n",
       "      <th>hour</th>\n",
       "      <th>bidid</th>\n",
       "      <th>userid</th>\n",
       "      <th>IP</th>\n",
       "      <th>region</th>\n",
       "      <th>city</th>\n",
       "      <th>adexchange</th>\n",
       "      <th>domain</th>\n",
       "      <th>url</th>\n",
       "      <th>...</th>\n",
       "      <th>slotvisibility</th>\n",
       "      <th>slotformat</th>\n",
       "      <th>slotprice</th>\n",
       "      <th>creative</th>\n",
       "      <th>bidprice</th>\n",
       "      <th>payprice</th>\n",
       "      <th>keypage</th>\n",
       "      <th>advertiser</th>\n",
       "      <th>OS</th>\n",
       "      <th>browser</th>\n",
       "    </tr>\n",
       "  </thead>\n",
       "  <tbody>\n",
       "    <tr>\n",
       "      <th>0</th>\n",
       "      <td>5</td>\n",
       "      <td>22</td>\n",
       "      <td>1744697</td>\n",
       "      <td>426429</td>\n",
       "      <td>253587</td>\n",
       "      <td>2</td>\n",
       "      <td>2</td>\n",
       "      <td>1</td>\n",
       "      <td>21783</td>\n",
       "      <td>268016</td>\n",
       "      <td>...</td>\n",
       "      <td>2</td>\n",
       "      <td>0</td>\n",
       "      <td>5</td>\n",
       "      <td>104</td>\n",
       "      <td>238</td>\n",
       "      <td>5</td>\n",
       "      <td>0</td>\n",
       "      <td>3427</td>\n",
       "      <td>5</td>\n",
       "      <td>2</td>\n",
       "    </tr>\n",
       "    <tr>\n",
       "      <th>1</th>\n",
       "      <td>1</td>\n",
       "      <td>20</td>\n",
       "      <td>753317</td>\n",
       "      <td>532622</td>\n",
       "      <td>282720</td>\n",
       "      <td>238</td>\n",
       "      <td>239</td>\n",
       "      <td>0</td>\n",
       "      <td>728</td>\n",
       "      <td>145905</td>\n",
       "      <td>...</td>\n",
       "      <td>6</td>\n",
       "      <td>3</td>\n",
       "      <td>0</td>\n",
       "      <td>9</td>\n",
       "      <td>294</td>\n",
       "      <td>23</td>\n",
       "      <td>18</td>\n",
       "      <td>2821</td>\n",
       "      <td>5</td>\n",
       "      <td>0</td>\n",
       "    </tr>\n",
       "    <tr>\n",
       "      <th>2</th>\n",
       "      <td>3</td>\n",
       "      <td>13</td>\n",
       "      <td>1728576</td>\n",
       "      <td>1172242</td>\n",
       "      <td>469429</td>\n",
       "      <td>40</td>\n",
       "      <td>41</td>\n",
       "      <td>1</td>\n",
       "      <td>18426</td>\n",
       "      <td>262017</td>\n",
       "      <td>...</td>\n",
       "      <td>2</td>\n",
       "      <td>0</td>\n",
       "      <td>5</td>\n",
       "      <td>92</td>\n",
       "      <td>238</td>\n",
       "      <td>24</td>\n",
       "      <td>0</td>\n",
       "      <td>3427</td>\n",
       "      <td>5</td>\n",
       "      <td>2</td>\n",
       "    </tr>\n",
       "    <tr>\n",
       "      <th>3</th>\n",
       "      <td>6</td>\n",
       "      <td>23</td>\n",
       "      <td>31142</td>\n",
       "      <td>123369</td>\n",
       "      <td>107833</td>\n",
       "      <td>1</td>\n",
       "      <td>1</td>\n",
       "      <td>0</td>\n",
       "      <td>4770</td>\n",
       "      <td>658015</td>\n",
       "      <td>...</td>\n",
       "      <td>2</td>\n",
       "      <td>1</td>\n",
       "      <td>0</td>\n",
       "      <td>111</td>\n",
       "      <td>300</td>\n",
       "      <td>25</td>\n",
       "      <td>12</td>\n",
       "      <td>1458</td>\n",
       "      <td>5</td>\n",
       "      <td>2</td>\n",
       "    </tr>\n",
       "    <tr>\n",
       "      <th>4</th>\n",
       "      <td>5</td>\n",
       "      <td>6</td>\n",
       "      <td>365157</td>\n",
       "      <td>1484620</td>\n",
       "      <td>342191</td>\n",
       "      <td>216</td>\n",
       "      <td>233</td>\n",
       "      <td>1</td>\n",
       "      <td>153</td>\n",
       "      <td>157670</td>\n",
       "      <td>...</td>\n",
       "      <td>8</td>\n",
       "      <td>3</td>\n",
       "      <td>133</td>\n",
       "      <td>84</td>\n",
       "      <td>277</td>\n",
       "      <td>133</td>\n",
       "      <td>18</td>\n",
       "      <td>2259</td>\n",
       "      <td>5</td>\n",
       "      <td>2</td>\n",
       "    </tr>\n",
       "  </tbody>\n",
       "</table>\n",
       "<p>5 rows × 24 columns</p>\n",
       "</div>"
      ],
      "text/plain": [
       "   weekday  hour    bidid   userid      IP  region  city  adexchange  domain  \\\n",
       "0        5    22  1744697   426429  253587       2     2           1   21783   \n",
       "1        1    20   753317   532622  282720     238   239           0     728   \n",
       "2        3    13  1728576  1172242  469429      40    41           1   18426   \n",
       "3        6    23    31142   123369  107833       1     1           0    4770   \n",
       "4        5     6   365157  1484620  342191     216   233           1     153   \n",
       "\n",
       "      url   ...     slotvisibility  slotformat  slotprice  creative  bidprice  \\\n",
       "0  268016   ...                  2           0          5       104       238   \n",
       "1  145905   ...                  6           3          0         9       294   \n",
       "2  262017   ...                  2           0          5        92       238   \n",
       "3  658015   ...                  2           1          0       111       300   \n",
       "4  157670   ...                  8           3        133        84       277   \n",
       "\n",
       "   payprice  keypage  advertiser  OS  browser  \n",
       "0         5        0        3427   5        2  \n",
       "1        23       18        2821   5        0  \n",
       "2        24        0        3427   5        2  \n",
       "3        25       12        1458   5        2  \n",
       "4       133       18        2259   5        2  \n",
       "\n",
       "[5 rows x 24 columns]"
      ]
     },
     "execution_count": 15,
     "metadata": {},
     "output_type": "execute_result"
    }
   ],
   "source": [
    "X_train.head()"
   ]
  },
  {
   "cell_type": "code",
   "execution_count": 16,
   "metadata": {},
   "outputs": [
    {
     "data": {
      "text/html": [
       "<div>\n",
       "<table border=\"1\" class=\"dataframe\">\n",
       "  <thead>\n",
       "    <tr style=\"text-align: right;\">\n",
       "      <th></th>\n",
       "      <th>weekday</th>\n",
       "      <th>hour</th>\n",
       "      <th>bidid</th>\n",
       "      <th>userid</th>\n",
       "      <th>IP</th>\n",
       "      <th>region</th>\n",
       "      <th>city</th>\n",
       "      <th>adexchange</th>\n",
       "      <th>domain</th>\n",
       "      <th>url</th>\n",
       "      <th>...</th>\n",
       "      <th>slotvisibility</th>\n",
       "      <th>slotformat</th>\n",
       "      <th>slotprice</th>\n",
       "      <th>creative</th>\n",
       "      <th>bidprice</th>\n",
       "      <th>payprice</th>\n",
       "      <th>keypage</th>\n",
       "      <th>advertiser</th>\n",
       "      <th>OS</th>\n",
       "      <th>browser</th>\n",
       "    </tr>\n",
       "  </thead>\n",
       "  <tbody>\n",
       "    <tr>\n",
       "      <th>0</th>\n",
       "      <td>4</td>\n",
       "      <td>20</td>\n",
       "      <td>222938</td>\n",
       "      <td>120625</td>\n",
       "      <td>137474</td>\n",
       "      <td>79</td>\n",
       "      <td>79</td>\n",
       "      <td>0</td>\n",
       "      <td>8596</td>\n",
       "      <td>45239</td>\n",
       "      <td>...</td>\n",
       "      <td>2</td>\n",
       "      <td>1</td>\n",
       "      <td>0</td>\n",
       "      <td>109</td>\n",
       "      <td>300</td>\n",
       "      <td>23</td>\n",
       "      <td>12</td>\n",
       "      <td>1458</td>\n",
       "      <td>5</td>\n",
       "      <td>2</td>\n",
       "    </tr>\n",
       "    <tr>\n",
       "      <th>1</th>\n",
       "      <td>1</td>\n",
       "      <td>21</td>\n",
       "      <td>106645</td>\n",
       "      <td>191832</td>\n",
       "      <td>178167</td>\n",
       "      <td>79</td>\n",
       "      <td>79</td>\n",
       "      <td>0</td>\n",
       "      <td>7202</td>\n",
       "      <td>109524</td>\n",
       "      <td>...</td>\n",
       "      <td>0</td>\n",
       "      <td>1</td>\n",
       "      <td>0</td>\n",
       "      <td>108</td>\n",
       "      <td>238</td>\n",
       "      <td>75</td>\n",
       "      <td>7</td>\n",
       "      <td>3476</td>\n",
       "      <td>5</td>\n",
       "      <td>0</td>\n",
       "    </tr>\n",
       "    <tr>\n",
       "      <th>2</th>\n",
       "      <td>4</td>\n",
       "      <td>8</td>\n",
       "      <td>293073</td>\n",
       "      <td>95567</td>\n",
       "      <td>52834</td>\n",
       "      <td>2</td>\n",
       "      <td>2</td>\n",
       "      <td>1</td>\n",
       "      <td>8456</td>\n",
       "      <td>75356</td>\n",
       "      <td>...</td>\n",
       "      <td>2</td>\n",
       "      <td>0</td>\n",
       "      <td>5</td>\n",
       "      <td>99</td>\n",
       "      <td>238</td>\n",
       "      <td>65</td>\n",
       "      <td>14</td>\n",
       "      <td>3358</td>\n",
       "      <td>5</td>\n",
       "      <td>2</td>\n",
       "    </tr>\n",
       "    <tr>\n",
       "      <th>3</th>\n",
       "      <td>5</td>\n",
       "      <td>15</td>\n",
       "      <td>214745</td>\n",
       "      <td>103210</td>\n",
       "      <td>192739</td>\n",
       "      <td>201</td>\n",
       "      <td>205</td>\n",
       "      <td>1</td>\n",
       "      <td>8932</td>\n",
       "      <td>27901</td>\n",
       "      <td>...</td>\n",
       "      <td>2</td>\n",
       "      <td>0</td>\n",
       "      <td>5</td>\n",
       "      <td>116</td>\n",
       "      <td>238</td>\n",
       "      <td>6</td>\n",
       "      <td>14</td>\n",
       "      <td>3358</td>\n",
       "      <td>5</td>\n",
       "      <td>0</td>\n",
       "    </tr>\n",
       "    <tr>\n",
       "      <th>4</th>\n",
       "      <td>1</td>\n",
       "      <td>18</td>\n",
       "      <td>10091</td>\n",
       "      <td>270432</td>\n",
       "      <td>55070</td>\n",
       "      <td>134</td>\n",
       "      <td>135</td>\n",
       "      <td>1</td>\n",
       "      <td>6583</td>\n",
       "      <td>135142</td>\n",
       "      <td>...</td>\n",
       "      <td>1</td>\n",
       "      <td>0</td>\n",
       "      <td>5</td>\n",
       "      <td>42</td>\n",
       "      <td>249</td>\n",
       "      <td>5</td>\n",
       "      <td>5</td>\n",
       "      <td>3476</td>\n",
       "      <td>5</td>\n",
       "      <td>0</td>\n",
       "    </tr>\n",
       "  </tbody>\n",
       "</table>\n",
       "<p>5 rows × 24 columns</p>\n",
       "</div>"
      ],
      "text/plain": [
       "   weekday  hour   bidid  userid      IP  region  city  adexchange  domain  \\\n",
       "0        4    20  222938  120625  137474      79    79           0    8596   \n",
       "1        1    21  106645  191832  178167      79    79           0    7202   \n",
       "2        4     8  293073   95567   52834       2     2           1    8456   \n",
       "3        5    15  214745  103210  192739     201   205           1    8932   \n",
       "4        1    18   10091  270432   55070     134   135           1    6583   \n",
       "\n",
       "      url   ...     slotvisibility  slotformat  slotprice  creative  bidprice  \\\n",
       "0   45239   ...                  2           1          0       109       300   \n",
       "1  109524   ...                  0           1          0       108       238   \n",
       "2   75356   ...                  2           0          5        99       238   \n",
       "3   27901   ...                  2           0          5       116       238   \n",
       "4  135142   ...                  1           0          5        42       249   \n",
       "\n",
       "   payprice  keypage  advertiser  OS  browser  \n",
       "0        23       12        1458   5        2  \n",
       "1        75        7        3476   5        0  \n",
       "2        65       14        3358   5        2  \n",
       "3         6       14        3358   5        0  \n",
       "4         5        5        3476   5        0  \n",
       "\n",
       "[5 rows x 24 columns]"
      ]
     },
     "execution_count": 16,
     "metadata": {},
     "output_type": "execute_result"
    }
   ],
   "source": [
    "X_val.head()"
   ]
  },
  {
   "cell_type": "code",
   "execution_count": 17,
   "metadata": {},
   "outputs": [
    {
     "data": {
      "text/html": [
       "<div>\n",
       "<table border=\"1\" class=\"dataframe\">\n",
       "  <thead>\n",
       "    <tr style=\"text-align: right;\">\n",
       "      <th></th>\n",
       "      <th>click</th>\n",
       "      <th>weekday</th>\n",
       "      <th>hour</th>\n",
       "      <th>bidid</th>\n",
       "      <th>userid</th>\n",
       "      <th>useragent</th>\n",
       "      <th>IP</th>\n",
       "      <th>region</th>\n",
       "      <th>city</th>\n",
       "      <th>adexchange</th>\n",
       "      <th>...</th>\n",
       "      <th>slotformat</th>\n",
       "      <th>slotprice</th>\n",
       "      <th>creative</th>\n",
       "      <th>bidprice</th>\n",
       "      <th>payprice</th>\n",
       "      <th>keypage</th>\n",
       "      <th>advertiser</th>\n",
       "      <th>usertag</th>\n",
       "      <th>OS</th>\n",
       "      <th>browser</th>\n",
       "    </tr>\n",
       "  </thead>\n",
       "  <tbody>\n",
       "    <tr>\n",
       "      <th>0</th>\n",
       "      <td>0</td>\n",
       "      <td>4</td>\n",
       "      <td>20</td>\n",
       "      <td>bbcb813b6166538503d8b33a5602d7d72f6019dc</td>\n",
       "      <td>663169f66491c98c69f1f94a5c48fa34aa9fe06f</td>\n",
       "      <td>windows_ie</td>\n",
       "      <td>211.144.203.*</td>\n",
       "      <td>79</td>\n",
       "      <td>79</td>\n",
       "      <td>1</td>\n",
       "      <td>...</td>\n",
       "      <td>1</td>\n",
       "      <td>0</td>\n",
       "      <td>cb7c76e7784031272e37af8e7e9b062c</td>\n",
       "      <td>300</td>\n",
       "      <td>23</td>\n",
       "      <td>bebefa5efe83beee17a3d245e7c5085b</td>\n",
       "      <td>1458</td>\n",
       "      <td>13866,10111</td>\n",
       "      <td>windows</td>\n",
       "      <td>ie</td>\n",
       "    </tr>\n",
       "    <tr>\n",
       "      <th>1</th>\n",
       "      <td>0</td>\n",
       "      <td>1</td>\n",
       "      <td>21</td>\n",
       "      <td>5a07316c49477cb5d9b4d5aa39c27d6c3be7f92d</td>\n",
       "      <td>a23f0cfab6592c137f796e68fa752fceba08bb1b</td>\n",
       "      <td>windows_chrome</td>\n",
       "      <td>58.247.250.*</td>\n",
       "      <td>79</td>\n",
       "      <td>79</td>\n",
       "      <td>1</td>\n",
       "      <td>...</td>\n",
       "      <td>1</td>\n",
       "      <td>0</td>\n",
       "      <td>c938195f9e404b4f38c7e71bf50263e5</td>\n",
       "      <td>238</td>\n",
       "      <td>75</td>\n",
       "      <td>a3becb967c015e9acb5e72f22b100ef8</td>\n",
       "      <td>3476</td>\n",
       "      <td>10075,10057,10024,10052,10083,10063,10006,10110</td>\n",
       "      <td>windows</td>\n",
       "      <td>chrome</td>\n",
       "    </tr>\n",
       "    <tr>\n",
       "      <th>2</th>\n",
       "      <td>0</td>\n",
       "      <td>4</td>\n",
       "      <td>8</td>\n",
       "      <td>f6ece71dae81d6b16bfb24ad6dd5611472d4c673</td>\n",
       "      <td>5105a013ea54a9706146033e6a138d5234a3803e</td>\n",
       "      <td>windows_ie</td>\n",
       "      <td>117.12.111.*</td>\n",
       "      <td>2</td>\n",
       "      <td>2</td>\n",
       "      <td>2</td>\n",
       "      <td>...</td>\n",
       "      <td>0</td>\n",
       "      <td>5</td>\n",
       "      <td>911b2d84826786018761e8c0b0a3a60c</td>\n",
       "      <td>238</td>\n",
       "      <td>65</td>\n",
       "      <td>d29e59bf0f7f8243858b8183f14d4412</td>\n",
       "      <td>3358</td>\n",
       "      <td>13866,10024,10059,10063,13776,10083,10006,10111</td>\n",
       "      <td>windows</td>\n",
       "      <td>ie</td>\n",
       "    </tr>\n",
       "    <tr>\n",
       "      <th>3</th>\n",
       "      <td>0</td>\n",
       "      <td>5</td>\n",
       "      <td>15</td>\n",
       "      <td>b4d5c57c9b38ff5a12954fa01e11931b4e6bfbbb</td>\n",
       "      <td>577e9a768ce17e73c61ba7022db927f9ee761830</td>\n",
       "      <td>windows_chrome</td>\n",
       "      <td>61.187.224.*</td>\n",
       "      <td>201</td>\n",
       "      <td>205</td>\n",
       "      <td>2</td>\n",
       "      <td>...</td>\n",
       "      <td>0</td>\n",
       "      <td>5</td>\n",
       "      <td>dc0998c10f8f0b623b5d949e8272e4c7</td>\n",
       "      <td>238</td>\n",
       "      <td>6</td>\n",
       "      <td>d29e59bf0f7f8243858b8183f14d4412</td>\n",
       "      <td>3358</td>\n",
       "      <td>13866,10057,10006,10063,10110</td>\n",
       "      <td>windows</td>\n",
       "      <td>chrome</td>\n",
       "    </tr>\n",
       "    <tr>\n",
       "      <th>4</th>\n",
       "      <td>0</td>\n",
       "      <td>1</td>\n",
       "      <td>18</td>\n",
       "      <td>0899bf144249458ea9c89188473694bf44c7ca15</td>\n",
       "      <td>e4bf79c562745d671b19f2edf7fda89c2e25987f</td>\n",
       "      <td>windows_chrome</td>\n",
       "      <td>117.41.145.*</td>\n",
       "      <td>134</td>\n",
       "      <td>135</td>\n",
       "      <td>2</td>\n",
       "      <td>...</td>\n",
       "      <td>0</td>\n",
       "      <td>5</td>\n",
       "      <td>23485fcd23122d755d38f8c89d46ca56</td>\n",
       "      <td>249</td>\n",
       "      <td>5</td>\n",
       "      <td>7e0e909ea89f707bc20f9585c9072081</td>\n",
       "      <td>3476</td>\n",
       "      <td>10006,10063,13776,10110</td>\n",
       "      <td>windows</td>\n",
       "      <td>chrome</td>\n",
       "    </tr>\n",
       "  </tbody>\n",
       "</table>\n",
       "<p>5 rows × 27 columns</p>\n",
       "</div>"
      ],
      "text/plain": [
       "   click  weekday  hour                                     bidid  \\\n",
       "0      0        4    20  bbcb813b6166538503d8b33a5602d7d72f6019dc   \n",
       "1      0        1    21  5a07316c49477cb5d9b4d5aa39c27d6c3be7f92d   \n",
       "2      0        4     8  f6ece71dae81d6b16bfb24ad6dd5611472d4c673   \n",
       "3      0        5    15  b4d5c57c9b38ff5a12954fa01e11931b4e6bfbbb   \n",
       "4      0        1    18  0899bf144249458ea9c89188473694bf44c7ca15   \n",
       "\n",
       "                                     userid       useragent             IP  \\\n",
       "0  663169f66491c98c69f1f94a5c48fa34aa9fe06f      windows_ie  211.144.203.*   \n",
       "1  a23f0cfab6592c137f796e68fa752fceba08bb1b  windows_chrome   58.247.250.*   \n",
       "2  5105a013ea54a9706146033e6a138d5234a3803e      windows_ie   117.12.111.*   \n",
       "3  577e9a768ce17e73c61ba7022db927f9ee761830  windows_chrome   61.187.224.*   \n",
       "4  e4bf79c562745d671b19f2edf7fda89c2e25987f  windows_chrome   117.41.145.*   \n",
       "\n",
       "   region  city adexchange   ...   slotformat slotprice  \\\n",
       "0      79    79          1   ...            1         0   \n",
       "1      79    79          1   ...            1         0   \n",
       "2       2     2          2   ...            0         5   \n",
       "3     201   205          2   ...            0         5   \n",
       "4     134   135          2   ...            0         5   \n",
       "\n",
       "                           creative bidprice  payprice  \\\n",
       "0  cb7c76e7784031272e37af8e7e9b062c      300        23   \n",
       "1  c938195f9e404b4f38c7e71bf50263e5      238        75   \n",
       "2  911b2d84826786018761e8c0b0a3a60c      238        65   \n",
       "3  dc0998c10f8f0b623b5d949e8272e4c7      238         6   \n",
       "4  23485fcd23122d755d38f8c89d46ca56      249         5   \n",
       "\n",
       "                            keypage advertiser  \\\n",
       "0  bebefa5efe83beee17a3d245e7c5085b       1458   \n",
       "1  a3becb967c015e9acb5e72f22b100ef8       3476   \n",
       "2  d29e59bf0f7f8243858b8183f14d4412       3358   \n",
       "3  d29e59bf0f7f8243858b8183f14d4412       3358   \n",
       "4  7e0e909ea89f707bc20f9585c9072081       3476   \n",
       "\n",
       "                                           usertag       OS browser  \n",
       "0                                      13866,10111  windows      ie  \n",
       "1  10075,10057,10024,10052,10083,10063,10006,10110  windows  chrome  \n",
       "2  13866,10024,10059,10063,13776,10083,10006,10111  windows      ie  \n",
       "3                    13866,10057,10006,10063,10110  windows  chrome  \n",
       "4                          10006,10063,13776,10110  windows  chrome  \n",
       "\n",
       "[5 rows x 27 columns]"
      ]
     },
     "execution_count": 17,
     "metadata": {},
     "output_type": "execute_result"
    }
   ],
   "source": [
    "validation.head()"
   ]
  },
  {
   "cell_type": "code",
   "execution_count": 18,
   "metadata": {
    "collapsed": true
   },
   "outputs": [],
   "source": [
    "from sklearn.linear_model import LogisticRegression\n",
    "from sklearn import metrics\n",
    "logreg = LogisticRegression()\n",
    "LS=logreg.fit(X_train, y_train)"
   ]
  },
  {
   "cell_type": "code",
   "execution_count": 19,
   "metadata": {
    "collapsed": true
   },
   "outputs": [],
   "source": [
    "y_predicted=pd.Series(logreg.predict(X_val))"
   ]
  },
  {
   "cell_type": "code",
   "execution_count": 20,
   "metadata": {
    "scrolled": true
   },
   "outputs": [
    {
     "name": "stderr",
     "output_type": "stream",
     "text": [
      "/Users/esra/anaconda/lib/python3.5/site-packages/sklearn/metrics/classification.py:1135: UndefinedMetricWarning: Precision is ill-defined and being set to 0.0 due to no predicted samples.\n",
      "  'precision', 'predicted', average, warn_for)\n"
     ]
    },
    {
     "data": {
      "text/plain": [
       "0.0"
      ]
     },
     "execution_count": 20,
     "metadata": {},
     "output_type": "execute_result"
    }
   ],
   "source": [
    "#The precision is the ratio tp / (tp + fp) where tp is the number of true positives \n",
    "#and fp the number of false positives. The precision is intuitively the ability of the classifier \n",
    "#not to label as positive a sample that is negative.\n",
    "#The best value is 1 and the worst value is 0.\n",
    "from sklearn.metrics import precision_score\n",
    "precision_score(y_val, y_predicted)"
   ]
  },
  {
   "cell_type": "code",
   "execution_count": 21,
   "metadata": {},
   "outputs": [
    {
     "data": {
      "text/plain": [
       "0.0"
      ]
     },
     "execution_count": 21,
     "metadata": {},
     "output_type": "execute_result"
    }
   ],
   "source": [
    "#The recall is the ratio tp / (tp + fn) where tp is the number of true positives and fn the number of false negatives.\n",
    "#The recall is intuitively the ability of the classifier to find all the positive samples.\n",
    "#The best value is 1 and the worst value is 0.\n",
    "from sklearn.metrics import recall_score\n",
    "recall_score(y_val, y_predicted) # y_predicted=0"
   ]
  },
  {
   "cell_type": "code",
   "execution_count": 22,
   "metadata": {
    "scrolled": true
   },
   "outputs": [
    {
     "data": {
      "text/plain": [
       "count    303925.000000\n",
       "mean          0.000665\n",
       "std           0.025772\n",
       "min           0.000000\n",
       "25%           0.000000\n",
       "50%           0.000000\n",
       "75%           0.000000\n",
       "max           1.000000\n",
       "Name: click, dtype: float64"
      ]
     },
     "execution_count": 22,
     "metadata": {},
     "output_type": "execute_result"
    }
   ],
   "source": [
    "y_val.describe()"
   ]
  },
  {
   "cell_type": "code",
   "execution_count": 23,
   "metadata": {},
   "outputs": [
    {
     "data": {
      "text/plain": [
       "0.5"
      ]
     },
     "execution_count": 23,
     "metadata": {},
     "output_type": "execute_result"
    }
   ],
   "source": [
    "from sklearn.metrics import roc_auc_score\n",
    "roc_auc_score(y_val, y_predicted)"
   ]
  },
  {
   "cell_type": "code",
   "execution_count": 24,
   "metadata": {},
   "outputs": [
    {
     "name": "stdout",
     "output_type": "stream",
     "text": [
      "0.999335362343\n"
     ]
    }
   ],
   "source": [
    "# this score is too high because its 0 for all the values. in validation set there are 202/303925 values are 1. \n",
    "#thats why it looks a very high score, but couldn't predict anything\n",
    "score = logreg.score(X_val, y_val)\n",
    "print(score)"
   ]
  },
  {
   "cell_type": "code",
   "execution_count": 25,
   "metadata": {},
   "outputs": [
    {
     "data": {
      "text/plain": [
       "0.5"
      ]
     },
     "execution_count": 25,
     "metadata": {},
     "output_type": "execute_result"
    }
   ],
   "source": [
    "from sklearn import metrics\n",
    "fpr, tpr , thresholds = metrics.roc_curve(y_val,y_predicted)\n",
    "metrics.auc(fpr, tpr)\n"
   ]
  },
  {
   "cell_type": "code",
   "execution_count": 26,
   "metadata": {},
   "outputs": [
    {
     "name": "stderr",
     "output_type": "stream",
     "text": [
      "/Users/esra/anaconda/lib/python3.5/site-packages/matplotlib/axes/_axes.py:545: UserWarning: No labelled objects found. Use label='...' kwarg on individual plots.\n",
      "  warnings.warn(\"No labelled objects found. \"\n"
     ]
    },
    {
     "data": {
      "image/png": "[encoded data removed]",
      "text/plain": [
       "<matplotlib.figure.Figure at 0x13638c5f8>"
      ]
     },
     "metadata": {},
     "output_type": "display_data"
    }
   ],
   "source": [
    "plt.figure()\n",
    "\n",
    "plt.plot(fpr, tpr)\n",
    "plt.plot([0, 1], [0, 1], color='navy',  linestyle='--')\n",
    "plt.xlim([0.0, 1.0])\n",
    "plt.ylim([0.0, 1.05])\n",
    "plt.xlabel('False Positive Rate')\n",
    "plt.ylabel('True Positive Rate')\n",
    "plt.title('Logistic regression - original Data')\n",
    "plt.legend(loc=\"lower right\")\n",
    "plt.show()"
   ]
  },
  {
   "cell_type": "markdown",
   "metadata": {},
   "source": [
    "### Example ROC curve for Explanation"
   ]
  },
  {
   "cell_type": "code",
   "execution_count": 118,
   "metadata": {
    "collapsed": true
   },
   "outputs": [],
   "source": [
    "y_true = np.array([0, 0, 1, 1,0, 0, 1, 1])\n",
    "y_pred = np.array([0, 0, 1, 1,0, 1, 0, 1])"
   ]
  },
  {
   "cell_type": "code",
   "execution_count": 119,
   "metadata": {},
   "outputs": [
    {
     "data": {
      "text/plain": [
       "0.75"
      ]
     },
     "execution_count": 119,
     "metadata": {},
     "output_type": "execute_result"
    }
   ],
   "source": [
    "from sklearn import metrics\n",
    "fpr, tpr , thresholds = metrics.roc_curve(y_true,y_pred)\n",
    "metrics.auc(fpr, tpr)\n"
   ]
  },
  {
   "cell_type": "code",
   "execution_count": 123,
   "metadata": {},
   "outputs": [
    {
     "data": {
      "text/plain": [
       "(3, 1, 1, 3)"
      ]
     },
     "execution_count": 123,
     "metadata": {},
     "output_type": "execute_result"
    }
   ],
   "source": [
    "from sklearn.metrics import confusion_matrix\n",
    "(tn, fp, fn, tp)=confusion_matrix(y_true, y_pred).ravel()\n",
    "(tn, fp, fn, tp)"
   ]
  },
  {
   "cell_type": "code",
   "execution_count": 120,
   "metadata": {},
   "outputs": [
    {
     "name": "stderr",
     "output_type": "stream",
     "text": [
      "/Users/esra/anaconda/lib/python3.5/site-packages/matplotlib/axes/_axes.py:545: UserWarning: No labelled objects found. Use label='...' kwarg on individual plots.\n",
      "  warnings.warn(\"No labelled objects found. \"\n"
     ]
    },
    {
     "data": {
      "image/png": "[encoded data removed]",
      "text/plain": [
       "<matplotlib.figure.Figure at 0x14449c278>"
      ]
     },
     "metadata": {},
     "output_type": "display_data"
    }
   ],
   "source": [
    "plt.figure()\n",
    "\n",
    "plt.plot(fpr, tpr)\n",
    "plt.plot([0, 1], [0, 1], color='navy',  linestyle='--')\n",
    "plt.xlim([0.0, 1.0])\n",
    "plt.ylim([0.0, 1.0])\n",
    "plt.xlabel('False Positive Rate')\n",
    "plt.ylabel('True Positive Rate')\n",
    "plt.title('Logistic regression - original Data')\n",
    "plt.legend(loc=\"lower right\")\n",
    "plt.show()"
   ]
  },
  {
   "cell_type": "markdown",
   "metadata": {},
   "source": [
    "### Unbalanced data fix \n",
    "#### Feature selection"
   ]
  },
  {
   "cell_type": "code",
   "execution_count": 104,
   "metadata": {},
   "outputs": [
    {
     "name": "stdout",
     "output_type": "stream",
     "text": [
      "[ True  True False False False  True  True  True  True False False False\n",
      "  True  True  True  True  True  True  True  True  True  True  True  True]\n",
      "[1 1 6 5 3 1 1 1 1 4 7 2 1 1 1 1 1 1 1 1 1 1 1 1]\n"
     ]
    }
   ],
   "source": [
    "#Given an external estimator that assigns weights to features (e.g., the coefficients of a linear model), \n",
    "#the goal of recursive feature elimination (RFE) is to select features by recursively considering smaller \n",
    "#and smaller sets of features.  Selected (i.e., estimated best) features are assigned rank 1.\n",
    "from sklearn.feature_selection import RFE\n",
    "\n",
    "rfe = RFE(logreg, 18)\n",
    "rfe = rfe.fit(X_train, y_train)\n",
    "print(rfe.support_)\n",
    "print(rfe.ranking_)"
   ]
  },
  {
   "cell_type": "code",
   "execution_count": 107,
   "metadata": {},
   "outputs": [
    {
     "data": {
      "text/plain": [
       "Index(['weekday', 'hour', 'bidid', 'userid', 'IP', 'region', 'city',\n",
       "       'adexchange', 'domain', 'url', 'urlid', 'slotid', 'slotwidth',\n",
       "       'slotheight', 'slotvisibility', 'slotformat', 'slotprice', 'creative',\n",
       "       'bidprice', 'payprice', 'keypage', 'advertiser', 'OS', 'browser'],\n",
       "      dtype='object')"
      ]
     },
     "execution_count": 107,
     "metadata": {},
     "output_type": "execute_result"
    }
   ],
   "source": [
    "X_train.columns"
   ]
  },
  {
   "cell_type": "code",
   "execution_count": 9,
   "metadata": {
    "collapsed": true
   },
   "outputs": [],
   "source": [
    "# New features reduced by importance\n",
    "X_train2 =pd.DataFrame()\n",
    "X_train2= X_train[['weekday', 'hour',  'region', 'city','adexchange', 'domain',  \n",
    "                   'slotwidth','slotheight', 'slotvisibility', 'slotformat', 'slotprice', \n",
    "                   'creative','bidprice', 'payprice', 'keypage', 'advertiser', 'OS', 'browser']].copy()"
   ]
  },
  {
   "cell_type": "code",
   "execution_count": 17,
   "metadata": {
    "collapsed": true
   },
   "outputs": [],
   "source": [
    "X_val2= X_val[['weekday', 'hour',  'region', 'city','adexchange', 'domain',  \n",
    "                   'slotwidth','slotheight', 'slotvisibility', 'slotformat', 'slotprice', \n",
    "                   'creative','bidprice', 'payprice', 'keypage', 'advertiser', 'OS', 'browser']].copy()"
   ]
  },
  {
   "cell_type": "code",
   "execution_count": 116,
   "metadata": {},
   "outputs": [
    {
     "data": {
      "text/plain": [
       "1793"
      ]
     },
     "execution_count": 116,
     "metadata": {},
     "output_type": "execute_result"
    }
   ],
   "source": [
    "y_train.sum()"
   ]
  },
  {
   "cell_type": "markdown",
   "metadata": {},
   "source": [
    "#### Undersampling"
   ]
  },
  {
   "cell_type": "code",
   "execution_count": 10,
   "metadata": {
    "collapsed": true
   },
   "outputs": [],
   "source": [
    "from imblearn.under_sampling import RandomUnderSampler "
   ]
  },
  {
   "cell_type": "code",
   "execution_count": 13,
   "metadata": {
    "collapsed": true
   },
   "outputs": [],
   "source": [
    "rus = RandomUnderSampler(random_state=42)\n",
    "X_res, y_res = rus.fit_sample(X_train2, y_train)"
   ]
  },
  {
   "cell_type": "code",
   "execution_count": 15,
   "metadata": {
    "scrolled": true
   },
   "outputs": [
    {
     "name": "stdout",
     "output_type": "stream",
     "text": [
      "Resampled dataset shape Counter({0: 1793, 1: 1793})\n"
     ]
    }
   ],
   "source": [
    "from collections import Counter\n",
    "print('Resampled dataset shape {}'.format(Counter(y_res)))"
   ]
  },
  {
   "cell_type": "code",
   "execution_count": 57,
   "metadata": {},
   "outputs": [
    {
     "data": {
      "text/plain": [
       "count    2.430981e+06\n",
       "mean     7.375623e-04\n",
       "std      2.714809e-02\n",
       "min      0.000000e+00\n",
       "25%      0.000000e+00\n",
       "50%      0.000000e+00\n",
       "75%      0.000000e+00\n",
       "max      1.000000e+00\n",
       "Name: click, dtype: float64"
      ]
     },
     "execution_count": 57,
     "metadata": {},
     "output_type": "execute_result"
    }
   ],
   "source": [
    "X_resdf=pd.DataFrame(X_res)\n",
    "X_resdf.columns=['weekday', 'hour',  'region', 'city','adexchange', 'domain',  \n",
    "                   'slotwidth','slotheight', 'slotvisibility', 'slotformat', 'slotprice', \n",
    "                   'creative','bidprice', 'payprice', 'keypage', 'advertiser', 'OS', 'browser']\n",
    "y_resdf=pd.DataFrame(y_res)"
   ]
  },
  {
   "cell_type": "markdown",
   "metadata": {},
   "source": [
    "#### Logistic Regression for undersampled data"
   ]
  },
  {
   "cell_type": "code",
   "execution_count": 18,
   "metadata": {
    "collapsed": true
   },
   "outputs": [],
   "source": [
    "logreg_u = LogisticRegression()\n",
    "LS_u=logreg_u.fit(X_res, y_res)\n",
    "y_underpredicted=pd.Series(logreg_u.predict(X_val2))"
   ]
  },
  {
   "cell_type": "code",
   "execution_count": 21,
   "metadata": {},
   "outputs": [
    {
     "data": {
      "text/plain": [
       "76283"
      ]
     },
     "execution_count": 21,
     "metadata": {},
     "output_type": "execute_result"
    }
   ],
   "source": [
    "sum(y_underpredicted)"
   ]
  },
  {
   "cell_type": "code",
   "execution_count": 20,
   "metadata": {},
   "outputs": [
    {
     "data": {
      "text/plain": [
       "0.0015468715179004497"
      ]
     },
     "execution_count": 20,
     "metadata": {},
     "output_type": "execute_result"
    }
   ],
   "source": [
    "from sklearn.metrics import precision_score\n",
    "precision_score(y_val, y_underpredicted)"
   ]
  },
  {
   "cell_type": "code",
   "execution_count": 22,
   "metadata": {},
   "outputs": [
    {
     "data": {
      "text/plain": [
       "0.58415841584158412"
      ]
     },
     "execution_count": 22,
     "metadata": {},
     "output_type": "execute_result"
    }
   ],
   "source": [
    "from sklearn.metrics import recall_score\n",
    "recall_score(y_val, y_underpredicted) # y_predicted=76283"
   ]
  },
  {
   "cell_type": "code",
   "execution_count": 23,
   "metadata": {},
   "outputs": [
    {
     "data": {
      "text/plain": [
       "0.66669357693466325"
      ]
     },
     "execution_count": 23,
     "metadata": {},
     "output_type": "execute_result"
    }
   ],
   "source": [
    "from sklearn.metrics import roc_auc_score\n",
    "roc_auc_score(y_val, y_underpredicted)"
   ]
  },
  {
   "cell_type": "code",
   "execution_count": 26,
   "metadata": {},
   "outputs": [
    {
     "name": "stdout",
     "output_type": "stream",
     "text": [
      "0.749119026076\n"
     ]
    }
   ],
   "source": [
    "score = logreg_u.score(X_val2, y_val)\n",
    "print(score)"
   ]
  },
  {
   "cell_type": "code",
   "execution_count": 107,
   "metadata": {},
   "outputs": [
    {
     "data": {
      "text/plain": [
       "0.66669357693466325"
      ]
     },
     "execution_count": 107,
     "metadata": {},
     "output_type": "execute_result"
    }
   ],
   "source": [
    "from sklearn import metrics\n",
    "fpr, tpr , thresholds = metrics.roc_curve(y_val,y_underpredicted)\n",
    "metrics.auc(fpr, tpr)"
   ]
  },
  {
   "cell_type": "code",
   "execution_count": 108,
   "metadata": {},
   "outputs": [
    {
     "name": "stderr",
     "output_type": "stream",
     "text": [
      "/Users/esra/anaconda/lib/python3.5/site-packages/matplotlib/axes/_axes.py:545: UserWarning: No labelled objects found. Use label='...' kwarg on individual plots.\n",
      "  warnings.warn(\"No labelled objects found. \"\n"
     ]
    },
    {
     "data": {
      "image/png": "[encoded data removed]",
      "text/plain": [
       "<matplotlib.figure.Figure at 0x16c201ef0>"
      ]
     },
     "metadata": {},
     "output_type": "display_data"
    }
   ],
   "source": [
    "plt.figure()\n",
    "\n",
    "plt.plot(fpr, tpr)\n",
    "plt.plot([0, 1], [0, 1], color='navy',  linestyle='--')\n",
    "plt.xlim([0.0, 1.0])\n",
    "plt.ylim([0.0, 1.05])\n",
    "plt.xlabel('False Positive Rate')\n",
    "plt.ylabel('True Positive Rate')\n",
    "plt.title('Logistic regression - Undersampled data with feature selection')\n",
    "plt.legend(loc=\"lower right\")\n",
    "plt.show()\n"
   ]
  },
  {
   "cell_type": "markdown",
   "metadata": {},
   "source": [
    "#### XGBoost with simplified features"
   ]
  },
  {
   "cell_type": "code",
   "execution_count": 28,
   "metadata": {},
   "outputs": [
    {
     "name": "stderr",
     "output_type": "stream",
     "text": [
      "/Users/esra/anaconda/lib/python3.5/site-packages/sklearn/cross_validation.py:41: DeprecationWarning: This module was deprecated in version 0.18 in favor of the model_selection module into which all the refactored classes and functions are moved. Also note that the interface of the new CV iterators are different from that of this module. This module will be removed in 0.20.\n",
      "  \"This module will be removed in 0.20.\", DeprecationWarning)\n"
     ]
    }
   ],
   "source": [
    "import xgboost as xgb"
   ]
  },
  {
   "cell_type": "code",
   "execution_count": 29,
   "metadata": {
    "collapsed": true
   },
   "outputs": [],
   "source": [
    "clf = xgb.XGBClassifier()\n",
    "clf= clf.fit(X_train2, y_train)"
   ]
  },
  {
   "cell_type": "code",
   "execution_count": 112,
   "metadata": {},
   "outputs": [
    {
     "data": {
      "text/plain": [
       "0.5"
      ]
     },
     "execution_count": 112,
     "metadata": {},
     "output_type": "execute_result"
    }
   ],
   "source": [
    "xg_predicted = pd.DataFrame(clf.predict(X_val2))\n",
    "from sklearn import metrics\n",
    "fpr, tpr , thresholds = metrics.roc_curve(y_val,xg_predicted)\n",
    "metrics.auc(fpr, tpr)"
   ]
  },
  {
   "cell_type": "code",
   "execution_count": 113,
   "metadata": {},
   "outputs": [
    {
     "name": "stderr",
     "output_type": "stream",
     "text": [
      "/Users/esra/anaconda/lib/python3.5/site-packages/matplotlib/axes/_axes.py:545: UserWarning: No labelled objects found. Use label='...' kwarg on individual plots.\n",
      "  warnings.warn(\"No labelled objects found. \"\n"
     ]
    },
    {
     "data": {
      "image/png": "[encoded data removed]",
      "text/plain": [
       "<matplotlib.figure.Figure at 0x16c73d588>"
      ]
     },
     "metadata": {},
     "output_type": "display_data"
    }
   ],
   "source": [
    "plt.figure()\n",
    "\n",
    "plt.plot(fpr, tpr)\n",
    "plt.plot([0, 1], [0, 1], color='navy',  linestyle='--')\n",
    "plt.xlim([0.0, 1.0])\n",
    "plt.ylim([0.0, 1.05])\n",
    "plt.xlabel('False Positive Rate')\n",
    "plt.ylabel('True Positive Rate')\n",
    "plt.title('XGboost with feature selection')\n",
    "plt.legend(loc=\"lower right\")\n",
    "plt.show()\n"
   ]
  },
  {
   "cell_type": "code",
   "execution_count": 36,
   "metadata": {},
   "outputs": [
    {
     "data": {
      "text/plain": [
       "0.0"
      ]
     },
     "execution_count": 36,
     "metadata": {},
     "output_type": "execute_result"
    }
   ],
   "source": [
    "recall_score(y_val, xg_predicted)"
   ]
  },
  {
   "cell_type": "code",
   "execution_count": 39,
   "metadata": {},
   "outputs": [
    {
     "data": {
      "text/plain": [
       "0"
      ]
     },
     "execution_count": 39,
     "metadata": {},
     "output_type": "execute_result"
    }
   ],
   "source": [
    "# 0 click prediction as before\n",
    "sum(xg_predicted)"
   ]
  },
  {
   "cell_type": "code",
   "execution_count": 116,
   "metadata": {},
   "outputs": [
    {
     "name": "stdout",
     "output_type": "stream",
     "text": [
      "0.999335362343\n"
     ]
    }
   ],
   "source": [
    "score3 = clf.score(X_val2, y_val)\n",
    "print(score3)"
   ]
  },
  {
   "cell_type": "markdown",
   "metadata": {},
   "source": [
    "#### XGBoost with simplified features and downsized training data"
   ]
  },
  {
   "cell_type": "code",
   "execution_count": 63,
   "metadata": {
    "collapsed": true
   },
   "outputs": [],
   "source": [
    "clf2 = xgb.XGBClassifier()\n",
    "clf2= clf2.fit(X_resdf, y_res)"
   ]
  },
  {
   "cell_type": "code",
   "execution_count": 114,
   "metadata": {},
   "outputs": [
    {
     "data": {
      "text/plain": [
       "0.70509830267111218"
      ]
     },
     "execution_count": 114,
     "metadata": {},
     "output_type": "execute_result"
    }
   ],
   "source": [
    "xgres_predicted = pd.DataFrame(clf2.predict(X_val2))\n",
    "from sklearn import metrics\n",
    "fpr, tpr , thresholds = metrics.roc_curve(y_val,xgres_predicted)\n",
    "metrics.auc(fpr, tpr)"
   ]
  },
  {
   "cell_type": "code",
   "execution_count": 62,
   "metadata": {},
   "outputs": [
    {
     "data": {
      "text/plain": [
       "1793"
      ]
     },
     "execution_count": 62,
     "metadata": {},
     "output_type": "execute_result"
    }
   ],
   "source": [
    "sum(y_res)"
   ]
  },
  {
   "cell_type": "code",
   "execution_count": 89,
   "metadata": {},
   "outputs": [
    {
     "data": {
      "text/plain": [
       "96587"
      ]
     },
     "execution_count": 89,
     "metadata": {},
     "output_type": "execute_result"
    }
   ],
   "source": [
    "xgres_predicted.columns=['click']\n",
    "xgres_predicted['click'].sum()"
   ]
  },
  {
   "cell_type": "code",
   "execution_count": 66,
   "metadata": {},
   "outputs": [
    {
     "data": {
      "text/plain": [
       "0.0015219439469079689"
      ]
     },
     "execution_count": 66,
     "metadata": {},
     "output_type": "execute_result"
    }
   ],
   "source": [
    "precision_score(y_val, xgres_predicted)"
   ]
  },
  {
   "cell_type": "code",
   "execution_count": 68,
   "metadata": {},
   "outputs": [
    {
     "data": {
      "text/plain": [
       "0.7277227722772277"
      ]
     },
     "execution_count": 68,
     "metadata": {},
     "output_type": "execute_result"
    }
   ],
   "source": [
    "recall_score(y_val, xgres_predicted)"
   ]
  },
  {
   "cell_type": "code",
   "execution_count": 69,
   "metadata": {},
   "outputs": [
    {
     "data": {
      "text/plain": [
       "0.70509830267111218"
      ]
     },
     "execution_count": 69,
     "metadata": {},
     "output_type": "execute_result"
    }
   ],
   "source": [
    "roc_auc_score(y_val, xgres_predicted)"
   ]
  },
  {
   "cell_type": "code",
   "execution_count": 90,
   "metadata": {},
   "outputs": [
    {
     "name": "stdout",
     "output_type": "stream",
     "text": [
      "0.682503907214\n"
     ]
    }
   ],
   "source": [
    "score2 = clf2.score(X_val2, y_val)\n",
    "print(score2)"
   ]
  },
  {
   "cell_type": "code",
   "execution_count": 115,
   "metadata": {},
   "outputs": [
    {
     "name": "stderr",
     "output_type": "stream",
     "text": [
      "/Users/esra/anaconda/lib/python3.5/site-packages/matplotlib/axes/_axes.py:545: UserWarning: No labelled objects found. Use label='...' kwarg on individual plots.\n",
      "  warnings.warn(\"No labelled objects found. \"\n"
     ]
    },
    {
     "data": {
      "image/png": "[encoded data removed]",
      "text/plain": [
       "<matplotlib.figure.Figure at 0x16acb5cf8>"
      ]
     },
     "metadata": {},
     "output_type": "display_data"
    }
   ],
   "source": [
    "plt.figure()\n",
    "\n",
    "plt.plot(fpr, tpr)\n",
    "plt.plot([0, 1], [0, 1], color='navy',  linestyle='--')\n",
    "plt.xlim([0.0, 1.0])\n",
    "plt.ylim([0.0, 1.05])\n",
    "plt.xlabel('False Positive Rate')\n",
    "plt.ylabel('True Positive Rate')\n",
    "plt.title('XGBoost - Undersampled data with feature selection')\n",
    "plt.legend(loc=\"lower right\")\n",
    "plt.show()\n"
   ]
  },
  {
   "cell_type": "code",
   "execution_count": null,
   "metadata": {
    "collapsed": true
   },
   "outputs": [],
   "source": []
  }
 ],
 "metadata": {
  "anaconda-cloud": {},
  "kernelspec": {
   "display_name": "Python [conda root]",
   "language": "python",
   "name": "conda-root-py"
  },
  "language_info": {
   "codemirror_mode": {
    "name": "ipython",
    "version": 3
   },
   "file_extension": ".py",
   "mimetype": "text/x-python",
   "name": "python",
   "nbconvert_exporter": "python",
   "pygments_lexer": "ipython3",
   "version": "3.5.2"
  }
 },
 "nbformat": 4,
 "nbformat_minor": 1
}
